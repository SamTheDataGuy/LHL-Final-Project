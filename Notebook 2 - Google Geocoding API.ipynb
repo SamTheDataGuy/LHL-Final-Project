{
 "cells": [
  {
   "cell_type": "code",
   "execution_count": 4,
   "metadata": {},
   "outputs": [],
   "source": [
    "# Imports\n",
    "import pandas as pd\n",
    "import numpy as np\n",
    "import seaborn as sns\n",
    "from matplotlib import pyplot as plt\n",
    "import requests\n",
    "import os"
   ]
  },
  {
   "cell_type": "markdown",
   "metadata": {},
   "source": [
    "Importing the df_address dataframe"
   ]
  },
  {
   "cell_type": "code",
   "execution_count": 17,
   "metadata": {},
   "outputs": [],
   "source": [
    "df_address = pd.read_csv('df_address.csv')"
   ]
  },
  {
   "cell_type": "markdown",
   "metadata": {},
   "source": [
    "Accessing the Google Geocoding API to get latitude and longitude for each address"
   ]
  },
  {
   "cell_type": "code",
   "execution_count": null,
   "metadata": {},
   "outputs": [],
   "source": [
    "from dotenv import load_dotenv\n",
    "load_dotenv()\n",
    "api_key = os.getenv('GOOGLE_API_KEY2')\n",
    "\n",
    "lat = []\n",
    "lng = []\n",
    "\n",
    "# For loop to pull coordinates for every address\n",
    "for i in df_address['address']:\n",
    "    \n",
    "    outputFormat = 'json'\n",
    "    parameters = {\n",
    "        'key': api_key,\n",
    "        'address': i\n",
    "    }\n",
    "    \n",
    "    endpoint = f'https://maps.googleapis.com/maps/api/geocode/{outputFormat}?'\n",
    "    response = requests.get(endpoint, params = parameters).json()\n",
    "\n",
    "    lat.append(response['results'][0]['geometry']['location']['lat'])\n",
    "    lng.append(response['results'][0]['geometry']['location']['lng'])"
   ]
  },
  {
   "cell_type": "markdown",
   "metadata": {},
   "source": [
    "Creating a new dataframe with coordinate data"
   ]
  },
  {
   "cell_type": "code",
   "execution_count": 19,
   "metadata": {},
   "outputs": [
    {
     "data": {
      "text/html": [
       "<div>\n",
       "<style scoped>\n",
       "    .dataframe tbody tr th:only-of-type {\n",
       "        vertical-align: middle;\n",
       "    }\n",
       "\n",
       "    .dataframe tbody tr th {\n",
       "        vertical-align: top;\n",
       "    }\n",
       "\n",
       "    .dataframe thead th {\n",
       "        text-align: right;\n",
       "    }\n",
       "</style>\n",
       "<table border=\"1\" class=\"dataframe\">\n",
       "  <thead>\n",
       "    <tr style=\"text-align: right;\">\n",
       "      <th></th>\n",
       "      <th>address</th>\n",
       "      <th>incidentCount</th>\n",
       "      <th>lat</th>\n",
       "      <th>lng</th>\n",
       "    </tr>\n",
       "  </thead>\n",
       "  <tbody>\n",
       "    <tr>\n",
       "      <th>0</th>\n",
       "      <td>1 1 AV, LETHBRIDGE, AB, Canada</td>\n",
       "      <td>24</td>\n",
       "      <td>49.697474</td>\n",
       "      <td>-112.850887</td>\n",
       "    </tr>\n",
       "    <tr>\n",
       "      <th>1</th>\n",
       "      <td>1 3 ST, LETHBRIDGE, AB, Canada</td>\n",
       "      <td>22</td>\n",
       "      <td>49.703527</td>\n",
       "      <td>-112.752190</td>\n",
       "    </tr>\n",
       "    <tr>\n",
       "      <th>2</th>\n",
       "      <td>1 5 AV, LETHBRIDGE, AB, Canada</td>\n",
       "      <td>5</td>\n",
       "      <td>49.692750</td>\n",
       "      <td>-112.841036</td>\n",
       "    </tr>\n",
       "    <tr>\n",
       "      <th>3</th>\n",
       "      <td>1 62 AV, LETHBRIDGE, AB, Canada</td>\n",
       "      <td>4</td>\n",
       "      <td>49.756413</td>\n",
       "      <td>-112.801033</td>\n",
       "    </tr>\n",
       "    <tr>\n",
       "      <th>4</th>\n",
       "      <td>1 ABERDEEN BY, LETHBRIDGE, AB, Canada</td>\n",
       "      <td>1</td>\n",
       "      <td>49.695618</td>\n",
       "      <td>-112.845107</td>\n",
       "    </tr>\n",
       "  </tbody>\n",
       "</table>\n",
       "</div>"
      ],
      "text/plain": [
       "                                 address  incidentCount        lat         lng\n",
       "0         1 1 AV, LETHBRIDGE, AB, Canada             24  49.697474 -112.850887\n",
       "1         1 3 ST, LETHBRIDGE, AB, Canada             22  49.703527 -112.752190\n",
       "2         1 5 AV, LETHBRIDGE, AB, Canada              5  49.692750 -112.841036\n",
       "3        1 62 AV, LETHBRIDGE, AB, Canada              4  49.756413 -112.801033\n",
       "4  1 ABERDEEN BY, LETHBRIDGE, AB, Canada              1  49.695618 -112.845107"
      ]
     },
     "execution_count": 19,
     "metadata": {},
     "output_type": "execute_result"
    }
   ],
   "source": [
    "df_address_geo = df_address.copy()\n",
    "\n",
    "df_address_geo.insert(2,'lat',lat)\n",
    "df_address_geo.insert(3,'lng',lng)\n",
    "df_address_geo.head()"
   ]
  },
  {
   "cell_type": "markdown",
   "metadata": {},
   "source": [
    "Writing the new dataframe to a csv file"
   ]
  },
  {
   "cell_type": "code",
   "execution_count": 22,
   "metadata": {},
   "outputs": [],
   "source": [
    "df_address_geo.to_csv('df_address_geo.csv', index=False)"
   ]
  }
 ],
 "metadata": {
  "kernelspec": {
   "display_name": "secondEnv",
   "language": "python",
   "name": "python3"
  },
  "language_info": {
   "codemirror_mode": {
    "name": "ipython",
    "version": 3
   },
   "file_extension": ".py",
   "mimetype": "text/x-python",
   "name": "python",
   "nbconvert_exporter": "python",
   "pygments_lexer": "ipython3",
   "version": "3.9.16"
  },
  "orig_nbformat": 4
 },
 "nbformat": 4,
 "nbformat_minor": 2
}

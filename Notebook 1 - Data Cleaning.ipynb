{
 "cells": [
  {
   "cell_type": "code",
   "execution_count": 1,
   "metadata": {},
   "outputs": [],
   "source": [
    "# Imports\n",
    "import pandas as pd\n",
    "import numpy as np\n",
    "import seaborn as sns\n",
    "from matplotlib import pyplot as plt\n",
    "import requests\n",
    "import os\n",
    "import datetime as dt\n",
    "from datetime import timedelta, date"
   ]
  },
  {
   "cell_type": "code",
   "execution_count": 2,
   "metadata": {},
   "outputs": [
    {
     "data": {
      "text/html": [
       "<div>\n",
       "<style scoped>\n",
       "    .dataframe tbody tr th:only-of-type {\n",
       "        vertical-align: middle;\n",
       "    }\n",
       "\n",
       "    .dataframe tbody tr th {\n",
       "        vertical-align: top;\n",
       "    }\n",
       "\n",
       "    .dataframe thead th {\n",
       "        text-align: right;\n",
       "    }\n",
       "</style>\n",
       "<table border=\"1\" class=\"dataframe\">\n",
       "  <thead>\n",
       "    <tr style=\"text-align: right;\">\n",
       "      <th></th>\n",
       "      <th>ccn</th>\n",
       "      <th>date</th>\n",
       "      <th>updateDate</th>\n",
       "      <th>city</th>\n",
       "      <th>state</th>\n",
       "      <th>postalCode</th>\n",
       "      <th>blocksizedAddress</th>\n",
       "      <th>incidentType</th>\n",
       "      <th>parentIncidentType</th>\n",
       "      <th>narrative</th>\n",
       "    </tr>\n",
       "  </thead>\n",
       "  <tbody>\n",
       "    <tr>\n",
       "      <th>0</th>\n",
       "      <td>CA23018227</td>\n",
       "      <td>12/25/2022, 12:00:00 AM</td>\n",
       "      <td>08/03/2023, 1:23:51 PM</td>\n",
       "      <td>LETHBRIDGE</td>\n",
       "      <td>AB</td>\n",
       "      <td>.</td>\n",
       "      <td>1600 Block ST GEORGE RD</td>\n",
       "      <td>RMS] Assault</td>\n",
       "      <td>Assault</td>\n",
       "      <td>Assault</td>\n",
       "    </tr>\n",
       "    <tr>\n",
       "      <th>1</th>\n",
       "      <td>CA23016523</td>\n",
       "      <td>12/01/2022, 9:04:00 AM</td>\n",
       "      <td>08/03/2023, 8:23:45 AM</td>\n",
       "      <td>LETHBRIDGE</td>\n",
       "      <td>AB</td>\n",
       "      <td>T1J 5J4</td>\n",
       "      <td>100 Block GOLDENROD RD</td>\n",
       "      <td>RMS] Fraud - Identity Fraud</td>\n",
       "      <td>Other</td>\n",
       "      <td>Fraud - Identity Fraud</td>\n",
       "    </tr>\n",
       "    <tr>\n",
       "      <th>2</th>\n",
       "      <td>RM23054146</td>\n",
       "      <td>10/21/2022, 4:00:00 PM</td>\n",
       "      <td>07/22/2023, 8:39:56 AM</td>\n",
       "      <td>LETHBRIDGE</td>\n",
       "      <td>AB</td>\n",
       "      <td>.</td>\n",
       "      <td>100 Block FAIRMONT BD</td>\n",
       "      <td>RMS] Proceeds Of Crime Criminal Cod</td>\n",
       "      <td>Other</td>\n",
       "      <td>Proceeds Of Crime Criminal Cod</td>\n",
       "    </tr>\n",
       "    <tr>\n",
       "      <th>3</th>\n",
       "      <td>CA23008687</td>\n",
       "      <td>11/01/2022, 7:00:00 AM</td>\n",
       "      <td>07/06/2023, 9:00:30 AM</td>\n",
       "      <td>LETHBRIDGE</td>\n",
       "      <td>AB</td>\n",
       "      <td>.</td>\n",
       "      <td>1 Block BLACKFOOT CI</td>\n",
       "      <td>RMS] Sexual Assault</td>\n",
       "      <td>Sexual Offense</td>\n",
       "      <td>Sexual Assault</td>\n",
       "    </tr>\n",
       "    <tr>\n",
       "      <th>4</th>\n",
       "      <td>RM22058254</td>\n",
       "      <td>12/16/2022, 1:00:00 PM</td>\n",
       "      <td>07/06/2023, 9:00:20 AM</td>\n",
       "      <td>LETHBRIDGE</td>\n",
       "      <td>AB</td>\n",
       "      <td>.</td>\n",
       "      <td>100 Block 1 AV</td>\n",
       "      <td>RMS] Assist Others</td>\n",
       "      <td>Other</td>\n",
       "      <td>Assist Others</td>\n",
       "    </tr>\n",
       "  </tbody>\n",
       "</table>\n",
       "</div>"
      ],
      "text/plain": [
       "          ccn                     date              updateDate        city  \\\n",
       "0  CA23018227  12/25/2022, 12:00:00 AM  08/03/2023, 1:23:51 PM  LETHBRIDGE   \n",
       "1  CA23016523   12/01/2022, 9:04:00 AM  08/03/2023, 8:23:45 AM  LETHBRIDGE   \n",
       "2  RM23054146   10/21/2022, 4:00:00 PM  07/22/2023, 8:39:56 AM  LETHBRIDGE   \n",
       "3  CA23008687   11/01/2022, 7:00:00 AM  07/06/2023, 9:00:30 AM  LETHBRIDGE   \n",
       "4  RM22058254   12/16/2022, 1:00:00 PM  07/06/2023, 9:00:20 AM  LETHBRIDGE   \n",
       "\n",
       "  state postalCode        blocksizedAddress  \\\n",
       "0    AB          .  1600 Block ST GEORGE RD   \n",
       "1    AB    T1J 5J4   100 Block GOLDENROD RD   \n",
       "2    AB          .    100 Block FAIRMONT BD   \n",
       "3    AB          .     1 Block BLACKFOOT CI   \n",
       "4    AB          .           100 Block 1 AV   \n",
       "\n",
       "                           incidentType parentIncidentType  \\\n",
       "0                          RMS] Assault            Assault   \n",
       "1           RMS] Fraud - Identity Fraud              Other   \n",
       "2   RMS] Proceeds Of Crime Criminal Cod              Other   \n",
       "3                   RMS] Sexual Assault     Sexual Offense   \n",
       "4                    RMS] Assist Others              Other   \n",
       "\n",
       "                        narrative  \n",
       "0                         Assault  \n",
       "1          Fraud - Identity Fraud  \n",
       "2  Proceeds Of Crime Criminal Cod  \n",
       "3                  Sexual Assault  \n",
       "4                   Assist Others  "
      ]
     },
     "execution_count": 2,
     "metadata": {},
     "output_type": "execute_result"
    }
   ],
   "source": [
    "df_1 = pd.read_csv('Data/Oct_Dec_2022_Lethbridge_Police_Service_report.csv')\n",
    "df_2 = pd.read_csv('Data/Jan_Mar_2023_Lethbridge_Police_Service_report.csv')\n",
    "df_3 = pd.read_csv('Data/Apr_Jun_2023_Lethbridge_Police_Service_report.csv')\n",
    "\n",
    "df = pd.concat([df_1, df_2, df_3])\n",
    "df = df.drop_duplicates()\n",
    "df.head()"
   ]
  },
  {
   "cell_type": "code",
   "execution_count": 3,
   "metadata": {},
   "outputs": [
    {
     "data": {
      "text/html": [
       "<div>\n",
       "<style scoped>\n",
       "    .dataframe tbody tr th:only-of-type {\n",
       "        vertical-align: middle;\n",
       "    }\n",
       "\n",
       "    .dataframe tbody tr th {\n",
       "        vertical-align: top;\n",
       "    }\n",
       "\n",
       "    .dataframe thead th {\n",
       "        text-align: right;\n",
       "    }\n",
       "</style>\n",
       "<table border=\"1\" class=\"dataframe\">\n",
       "  <thead>\n",
       "    <tr style=\"text-align: right;\">\n",
       "      <th></th>\n",
       "      <th>ccn</th>\n",
       "      <th>date</th>\n",
       "      <th>updateDate</th>\n",
       "      <th>city</th>\n",
       "      <th>state</th>\n",
       "      <th>postalCode</th>\n",
       "      <th>blocksizedAddress</th>\n",
       "      <th>incidentType</th>\n",
       "      <th>parentIncidentType</th>\n",
       "      <th>narrative</th>\n",
       "    </tr>\n",
       "  </thead>\n",
       "  <tbody>\n",
       "    <tr>\n",
       "      <th>count</th>\n",
       "      <td>68538</td>\n",
       "      <td>68538</td>\n",
       "      <td>68538</td>\n",
       "      <td>68538</td>\n",
       "      <td>68538</td>\n",
       "      <td>68538</td>\n",
       "      <td>68526</td>\n",
       "      <td>68538</td>\n",
       "      <td>68538</td>\n",
       "      <td>68538</td>\n",
       "    </tr>\n",
       "    <tr>\n",
       "      <th>unique</th>\n",
       "      <td>68538</td>\n",
       "      <td>65515</td>\n",
       "      <td>14349</td>\n",
       "      <td>31</td>\n",
       "      <td>3</td>\n",
       "      <td>226</td>\n",
       "      <td>2990</td>\n",
       "      <td>536</td>\n",
       "      <td>13</td>\n",
       "      <td>289</td>\n",
       "    </tr>\n",
       "    <tr>\n",
       "      <th>top</th>\n",
       "      <td>CA23018227</td>\n",
       "      <td>02/01/2023, 3:00:00 PM</td>\n",
       "      <td>11/24/2022, 1:24:20 AM</td>\n",
       "      <td>LETHBRIDGE</td>\n",
       "      <td>AB</td>\n",
       "      <td>.</td>\n",
       "      <td>UNKNOWN STREET</td>\n",
       "      <td>PUBLIC SERVICE</td>\n",
       "      <td>Other</td>\n",
       "      <td>PUBLIC SERVICE</td>\n",
       "    </tr>\n",
       "    <tr>\n",
       "      <th>freq</th>\n",
       "      <td>1</td>\n",
       "      <td>17</td>\n",
       "      <td>60</td>\n",
       "      <td>68451</td>\n",
       "      <td>68535</td>\n",
       "      <td>67657</td>\n",
       "      <td>3691</td>\n",
       "      <td>5772</td>\n",
       "      <td>37446</td>\n",
       "      <td>5772</td>\n",
       "    </tr>\n",
       "  </tbody>\n",
       "</table>\n",
       "</div>"
      ],
      "text/plain": [
       "               ccn                    date              updateDate  \\\n",
       "count        68538                   68538                   68538   \n",
       "unique       68538                   65515                   14349   \n",
       "top     CA23018227  02/01/2023, 3:00:00 PM  11/24/2022, 1:24:20 AM   \n",
       "freq             1                      17                      60   \n",
       "\n",
       "              city  state postalCode blocksizedAddress    incidentType  \\\n",
       "count        68538  68538      68538             68526           68538   \n",
       "unique          31      3        226              2990             536   \n",
       "top     LETHBRIDGE     AB          .    UNKNOWN STREET  PUBLIC SERVICE   \n",
       "freq         68451  68535      67657              3691            5772   \n",
       "\n",
       "       parentIncidentType       narrative  \n",
       "count               68538           68538  \n",
       "unique                 13             289  \n",
       "top                 Other  PUBLIC SERVICE  \n",
       "freq                37446            5772  "
      ]
     },
     "execution_count": 3,
     "metadata": {},
     "output_type": "execute_result"
    }
   ],
   "source": [
    "df.describe()"
   ]
  },
  {
   "cell_type": "markdown",
   "metadata": {},
   "source": [
    "There are 31 unique values for the 'city' column, and there should only be 1 ('LETHBRIDGE').  Looking at the unique values we can see that there are some incidents that are in other cities and should not be included.  There is also 1 incident with a typo ('LETHBRIDE'), and this needs to be corrected."
   ]
  },
  {
   "cell_type": "code",
   "execution_count": 4,
   "metadata": {},
   "outputs": [
    {
     "data": {
      "text/plain": [
       "city\n",
       "LETHBRIDGE           68451\n",
       "COALDALE                15\n",
       "LETHBRIDGE COUNTY       14\n",
       "COALHURST                8\n",
       "FORT MACLEOD             8\n",
       "CALGARY                  5\n",
       "TABER                    4\n",
       "CARDSTON                 4\n",
       "RAYMOND                  3\n",
       "FAIRVIEW                 3\n",
       "PINCHER CREEK            2\n",
       "STAND OFF                2\n",
       "BELLEVUE                 1\n",
       "DR                       1\n",
       "BARONS                   1\n",
       "COUNTY LETHBRIDGE        1\n",
       "WETASKIWIN               1\n",
       "OTTAWA                   1\n",
       "LAVAL                    1\n",
       "BROOKS                   1\n",
       "THREE HILLS              1\n",
       "RED DEER                 1\n",
       "SAINT-LAURENT            1\n",
       "Lethbridge               1\n",
       "EDMONTON                 1\n",
       "RED CLIFF                1\n",
       "CLARESHOLM               1\n",
       "MAGRATH                  1\n",
       "STIRLING                 1\n",
       "LETHBRIDE                1\n",
       "NOBLEFORD                1\n",
       "Name: count, dtype: int64"
      ]
     },
     "execution_count": 4,
     "metadata": {},
     "output_type": "execute_result"
    }
   ],
   "source": [
    "df['city'].value_counts()"
   ]
  },
  {
   "cell_type": "code",
   "execution_count": 5,
   "metadata": {},
   "outputs": [],
   "source": [
    "# Fixing typos and dropping any rows where the city is not 'LETHBRIDGE'\n",
    "df = df.replace('LETHBRIDE', 'LETHBRIDGE')\n",
    "df = df[df['city'] == 'LETHBRIDGE']"
   ]
  },
  {
   "cell_type": "code",
   "execution_count": 6,
   "metadata": {},
   "outputs": [
    {
     "name": "stdout",
     "output_type": "stream",
     "text": [
      "<class 'pandas.core.frame.DataFrame'>\n",
      "Index: 68452 entries, 0 to 24689\n",
      "Data columns (total 10 columns):\n",
      " #   Column              Non-Null Count  Dtype \n",
      "---  ------              --------------  ----- \n",
      " 0   ccn                 68452 non-null  object\n",
      " 1   date                68452 non-null  object\n",
      " 2   updateDate          68452 non-null  object\n",
      " 3   city                68452 non-null  object\n",
      " 4   state               68452 non-null  object\n",
      " 5   postalCode          68452 non-null  object\n",
      " 6   blocksizedAddress   68446 non-null  object\n",
      " 7   incidentType        68452 non-null  object\n",
      " 8   parentIncidentType  68452 non-null  object\n",
      " 9   narrative           68452 non-null  object\n",
      "dtypes: object(10)\n",
      "memory usage: 5.7+ MB\n"
     ]
    }
   ],
   "source": [
    "df.info()"
   ]
  },
  {
   "cell_type": "markdown",
   "metadata": {},
   "source": [
    "There are some null values in the 'blocksizedAddress' column, let's remove these"
   ]
  },
  {
   "cell_type": "code",
   "execution_count": 7,
   "metadata": {},
   "outputs": [],
   "source": [
    "df = df.dropna(subset=['blocksizedAddress'], axis=0)"
   ]
  },
  {
   "cell_type": "markdown",
   "metadata": {},
   "source": [
    "Let's look at the values in the 'parentIncidentType' column"
   ]
  },
  {
   "cell_type": "code",
   "execution_count": 8,
   "metadata": {},
   "outputs": [
    {
     "data": {
      "text/plain": [
       "parentIncidentType\n",
       "Other                  37376\n",
       "Quality of Life         9761\n",
       "Proactive Policing      9408\n",
       "Traffic                 4143\n",
       "Theft                   3198\n",
       "Assault                 1664\n",
       "Theft from Vehicle      1437\n",
       "Property Crime           677\n",
       "Sexual Offense           447\n",
       "Theft of Vehicle         244\n",
       "Robbery                   79\n",
       "Breaking & Entering       10\n",
       "Homicide                   2\n",
       "Name: count, dtype: int64"
      ]
     },
     "execution_count": 8,
     "metadata": {},
     "output_type": "execute_result"
    }
   ],
   "source": [
    "df['parentIncidentType'].value_counts()"
   ]
  },
  {
   "cell_type": "markdown",
   "metadata": {},
   "source": [
    "Let's remove all 'Proactive Policing' and 'Traffic' incidents, as we only want crimes reported by the public.  'Proactive Policing' and 'Traffic' incidents are usually only registered when witnessed and acted upon by police.  There is a possibility that some 'Traffic\" incidents have been reported by the public, but we'll assume that this is a very small number."
   ]
  },
  {
   "cell_type": "code",
   "execution_count": 9,
   "metadata": {},
   "outputs": [
    {
     "data": {
      "text/html": [
       "<div>\n",
       "<style scoped>\n",
       "    .dataframe tbody tr th:only-of-type {\n",
       "        vertical-align: middle;\n",
       "    }\n",
       "\n",
       "    .dataframe tbody tr th {\n",
       "        vertical-align: top;\n",
       "    }\n",
       "\n",
       "    .dataframe thead th {\n",
       "        text-align: right;\n",
       "    }\n",
       "</style>\n",
       "<table border=\"1\" class=\"dataframe\">\n",
       "  <thead>\n",
       "    <tr style=\"text-align: right;\">\n",
       "      <th></th>\n",
       "      <th>ccn</th>\n",
       "      <th>date</th>\n",
       "      <th>updateDate</th>\n",
       "      <th>city</th>\n",
       "      <th>state</th>\n",
       "      <th>postalCode</th>\n",
       "      <th>blocksizedAddress</th>\n",
       "      <th>incidentType</th>\n",
       "      <th>parentIncidentType</th>\n",
       "      <th>narrative</th>\n",
       "    </tr>\n",
       "  </thead>\n",
       "  <tbody>\n",
       "    <tr>\n",
       "      <th>count</th>\n",
       "      <td>54895</td>\n",
       "      <td>54895</td>\n",
       "      <td>54895</td>\n",
       "      <td>54895</td>\n",
       "      <td>54895</td>\n",
       "      <td>54895</td>\n",
       "      <td>54895</td>\n",
       "      <td>54895</td>\n",
       "      <td>54895</td>\n",
       "      <td>54895</td>\n",
       "    </tr>\n",
       "    <tr>\n",
       "      <th>unique</th>\n",
       "      <td>54895</td>\n",
       "      <td>52300</td>\n",
       "      <td>13396</td>\n",
       "      <td>1</td>\n",
       "      <td>1</td>\n",
       "      <td>82</td>\n",
       "      <td>2469</td>\n",
       "      <td>500</td>\n",
       "      <td>11</td>\n",
       "      <td>276</td>\n",
       "    </tr>\n",
       "    <tr>\n",
       "      <th>top</th>\n",
       "      <td>CA23018227</td>\n",
       "      <td>02/01/2023, 3:00:00 PM</td>\n",
       "      <td>11/24/2022, 1:24:18 AM</td>\n",
       "      <td>LETHBRIDGE</td>\n",
       "      <td>AB</td>\n",
       "      <td>.</td>\n",
       "      <td>100 Block 1 AV</td>\n",
       "      <td>PUBLIC SERVICE</td>\n",
       "      <td>Other</td>\n",
       "      <td>PUBLIC SERVICE</td>\n",
       "    </tr>\n",
       "    <tr>\n",
       "      <th>freq</th>\n",
       "      <td>1</td>\n",
       "      <td>17</td>\n",
       "      <td>54</td>\n",
       "      <td>54895</td>\n",
       "      <td>54895</td>\n",
       "      <td>54586</td>\n",
       "      <td>2193</td>\n",
       "      <td>5772</td>\n",
       "      <td>37376</td>\n",
       "      <td>5772</td>\n",
       "    </tr>\n",
       "  </tbody>\n",
       "</table>\n",
       "</div>"
      ],
      "text/plain": [
       "               ccn                    date              updateDate  \\\n",
       "count        54895                   54895                   54895   \n",
       "unique       54895                   52300                   13396   \n",
       "top     CA23018227  02/01/2023, 3:00:00 PM  11/24/2022, 1:24:18 AM   \n",
       "freq             1                      17                      54   \n",
       "\n",
       "              city  state postalCode blocksizedAddress    incidentType  \\\n",
       "count        54895  54895      54895             54895           54895   \n",
       "unique           1      1         82              2469             500   \n",
       "top     LETHBRIDGE     AB          .    100 Block 1 AV  PUBLIC SERVICE   \n",
       "freq         54895  54895      54586              2193            5772   \n",
       "\n",
       "       parentIncidentType       narrative  \n",
       "count               54895           54895  \n",
       "unique                 11             276  \n",
       "top                 Other  PUBLIC SERVICE  \n",
       "freq                37376            5772  "
      ]
     },
     "execution_count": 9,
     "metadata": {},
     "output_type": "execute_result"
    }
   ],
   "source": [
    "df = df[~df['parentIncidentType'].isin(['Proactive Policing', 'Traffic'])]\n",
    "df.describe()"
   ]
  },
  {
   "cell_type": "markdown",
   "metadata": {},
   "source": [
    "We don't need the 'updateDate', 'incidentType' or 'postalCode' columns so let's drop them"
   ]
  },
  {
   "cell_type": "code",
   "execution_count": 10,
   "metadata": {},
   "outputs": [],
   "source": [
    "df = df.drop(['updateDate','incidentType', 'postalCode'], axis=1)"
   ]
  },
  {
   "cell_type": "markdown",
   "metadata": {},
   "source": [
    "Most of the values in the 'blocksizedAddress' refer to a city block, which is what we want. However some refer to a street corner and others are 'UNKNOWN STREET'.  Let's drop these ones for the sake of simplicity."
   ]
  },
  {
   "cell_type": "code",
   "execution_count": 11,
   "metadata": {},
   "outputs": [],
   "source": [
    "df = df[df['blocksizedAddress'].str.contains('Block')]"
   ]
  },
  {
   "cell_type": "markdown",
   "metadata": {},
   "source": [
    "Now we'll make a new column for the full address"
   ]
  },
  {
   "cell_type": "code",
   "execution_count": 12,
   "metadata": {},
   "outputs": [
    {
     "data": {
      "text/html": [
       "<div>\n",
       "<style scoped>\n",
       "    .dataframe tbody tr th:only-of-type {\n",
       "        vertical-align: middle;\n",
       "    }\n",
       "\n",
       "    .dataframe tbody tr th {\n",
       "        vertical-align: top;\n",
       "    }\n",
       "\n",
       "    .dataframe thead th {\n",
       "        text-align: right;\n",
       "    }\n",
       "</style>\n",
       "<table border=\"1\" class=\"dataframe\">\n",
       "  <thead>\n",
       "    <tr style=\"text-align: right;\">\n",
       "      <th></th>\n",
       "      <th>address</th>\n",
       "    </tr>\n",
       "  </thead>\n",
       "  <tbody>\n",
       "    <tr>\n",
       "      <th>0</th>\n",
       "      <td>1600 ST GEORGE RD, LETHBRIDGE, AB, Canada</td>\n",
       "    </tr>\n",
       "    <tr>\n",
       "      <th>1</th>\n",
       "      <td>100 GOLDENROD RD, LETHBRIDGE, AB, Canada</td>\n",
       "    </tr>\n",
       "    <tr>\n",
       "      <th>2</th>\n",
       "      <td>100 FAIRMONT BD, LETHBRIDGE, AB, Canada</td>\n",
       "    </tr>\n",
       "    <tr>\n",
       "      <th>3</th>\n",
       "      <td>1 BLACKFOOT CI, LETHBRIDGE, AB, Canada</td>\n",
       "    </tr>\n",
       "    <tr>\n",
       "      <th>4</th>\n",
       "      <td>100 1 AV, LETHBRIDGE, AB, Canada</td>\n",
       "    </tr>\n",
       "    <tr>\n",
       "      <th>...</th>\n",
       "      <td>...</td>\n",
       "    </tr>\n",
       "    <tr>\n",
       "      <th>24682</th>\n",
       "      <td>300 8 ST, LETHBRIDGE, AB, Canada</td>\n",
       "    </tr>\n",
       "    <tr>\n",
       "      <th>24683</th>\n",
       "      <td>1 LAFAYETTE BD, LETHBRIDGE, AB, Canada</td>\n",
       "    </tr>\n",
       "    <tr>\n",
       "      <th>24687</th>\n",
       "      <td>800 2A AV, LETHBRIDGE, AB, Canada</td>\n",
       "    </tr>\n",
       "    <tr>\n",
       "      <th>24688</th>\n",
       "      <td>100 LAVAL BD, LETHBRIDGE, AB, Canada</td>\n",
       "    </tr>\n",
       "    <tr>\n",
       "      <th>24689</th>\n",
       "      <td>600 RED CROW BD, LETHBRIDGE, AB, Canada</td>\n",
       "    </tr>\n",
       "  </tbody>\n",
       "</table>\n",
       "<p>52328 rows × 1 columns</p>\n",
       "</div>"
      ],
      "text/plain": [
       "                                         address\n",
       "0      1600 ST GEORGE RD, LETHBRIDGE, AB, Canada\n",
       "1       100 GOLDENROD RD, LETHBRIDGE, AB, Canada\n",
       "2        100 FAIRMONT BD, LETHBRIDGE, AB, Canada\n",
       "3         1 BLACKFOOT CI, LETHBRIDGE, AB, Canada\n",
       "4               100 1 AV, LETHBRIDGE, AB, Canada\n",
       "...                                          ...\n",
       "24682           300 8 ST, LETHBRIDGE, AB, Canada\n",
       "24683     1 LAFAYETTE BD, LETHBRIDGE, AB, Canada\n",
       "24687          800 2A AV, LETHBRIDGE, AB, Canada\n",
       "24688       100 LAVAL BD, LETHBRIDGE, AB, Canada\n",
       "24689    600 RED CROW BD, LETHBRIDGE, AB, Canada\n",
       "\n",
       "[52328 rows x 1 columns]"
      ]
     },
     "execution_count": 12,
     "metadata": {},
     "output_type": "execute_result"
    }
   ],
   "source": [
    "df['address'] = df['blocksizedAddress'].str.replace('Block ', '') + ', ' + df['city'] + ', ' + df['state'] + ', Canada'\n",
    "df[['address']]"
   ]
  },
  {
   "cell_type": "markdown",
   "metadata": {},
   "source": [
    "Now we'll create a pivot table with each unique address as a row, and save it to csv file.  We will find the latitudes and longitudes in the 2nd notebook using the Google Geocoding API."
   ]
  },
  {
   "cell_type": "code",
   "execution_count": 19,
   "metadata": {},
   "outputs": [],
   "source": [
    "df_address = df.pivot_table(index='address', values='ccn', aggfunc='count').reset_index()\n",
    "df_address.columns = ['address', 'incidentCount']\n",
    "df_address.to_csv('df_address.csv', index=False)"
   ]
  },
  {
   "cell_type": "markdown",
   "metadata": {},
   "source": [
    "And we'll also write the incident dataframe to a csv file:"
   ]
  },
  {
   "cell_type": "code",
   "execution_count": null,
   "metadata": {},
   "outputs": [],
   "source": [
    "df.to_csv('df.csv', index=False)"
   ]
  },
  {
   "cell_type": "markdown",
   "metadata": {},
   "source": [
    "# END"
   ]
  }
 ],
 "metadata": {
  "kernelspec": {
   "display_name": "secondEnv",
   "language": "python",
   "name": "python3"
  },
  "language_info": {
   "codemirror_mode": {
    "name": "ipython",
    "version": 3
   },
   "file_extension": ".py",
   "mimetype": "text/x-python",
   "name": "python",
   "nbconvert_exporter": "python",
   "pygments_lexer": "ipython3",
   "version": "3.9.16"
  },
  "orig_nbformat": 4
 },
 "nbformat": 4,
 "nbformat_minor": 2
}

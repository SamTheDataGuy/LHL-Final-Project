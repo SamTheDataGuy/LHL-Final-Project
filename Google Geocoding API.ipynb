{
 "cells": [
  {
   "cell_type": "code",
   "execution_count": 1,
   "metadata": {},
   "outputs": [],
   "source": [
    "# Imports\n",
    "import pandas as pd\n",
    "import numpy as np\n",
    "import seaborn as sns\n",
    "from matplotlib import pyplot as plt\n",
    "import requests\n",
    "import os"
   ]
  },
  {
   "cell_type": "code",
   "execution_count": null,
   "metadata": {},
   "outputs": [],
   "source": [
    "df_1 = pd.read_csv('Data/Oct_Dec_2022_Lethbridge_Police_Service_report.csv')\n",
    "df_2 = pd.read_csv('Data/Jan_Mar_2023_Lethbridge_Police_Service_report.csv')\n",
    "df_3 = pd.read_csv('Data/Apr_Jun_2023_Lethbridge_Police_Service_report.csv')\n",
    "\n",
    "df = pd.concat([df_1, df_2, df_3])\n",
    "df = df.drop_duplicates()\n",
    "df.head()"
   ]
  },
  {
   "cell_type": "code",
   "execution_count": null,
   "metadata": {},
   "outputs": [],
   "source": [
    "df = df.dropna(subset=['blocksizedAddress'], axis=0)\n",
    "df = df[~df['parentIncidentType'].isin(['Proactive Policing', 'Traffic'])]\n",
    "df = df.drop(['updateDate','incidentType', 'postalCode'], axis=1)\n",
    "df = df[df['blocksizedAddress'].str.contains('Block')]"
   ]
  },
  {
   "cell_type": "code",
   "execution_count": null,
   "metadata": {},
   "outputs": [],
   "source": [
    "df['address'] = df['blocksizedAddress'].str.replace('Block ', '') + ', ' + df['city'] + ', ' + df['state'] + ', Canada'"
   ]
  },
  {
   "cell_type": "code",
   "execution_count": null,
   "metadata": {},
   "outputs": [],
   "source": [
    "# Creating pivot table of all unique addresses\n",
    "df_address = df.pivot_table(index='address', values='date', aggfunc='count').sort_values('date', ascending=False).reset_index()\n",
    "df_address.columns = ['address', 'incidentCount']"
   ]
  },
  {
   "cell_type": "code",
   "execution_count": null,
   "metadata": {},
   "outputs": [],
   "source": [
    "from dotenv import load_dotenv\n",
    "load_dotenv()\n",
    "api_key = os.getenv('GOOGLE_API_KEY2')"
   ]
  },
  {
   "cell_type": "code",
   "execution_count": null,
   "metadata": {},
   "outputs": [],
   "source": [
    "lat = []\n",
    "lng = []\n",
    "\n",
    "# For loop to pull coordinates for every address\n",
    "for i in df_address['address']:\n",
    "    \n",
    "    outputFormat = 'json'\n",
    "    parameters = {\n",
    "        'key': api_key,\n",
    "        'address': i\n",
    "    }\n",
    "    \n",
    "    endpoint = f'https://maps.googleapis.com/maps/api/geocode/{outputFormat}?'\n",
    "    response = requests.get(endpoint, params = parameters).json()\n",
    "\n",
    "    lat.append(response['results'][0]['geometry']['location']['lat'])\n",
    "    lng.append(response['results'][0]['geometry']['location']['lng'])\n",
    "\n",
    "df_address.insert(1,'lat',lat)\n",
    "df_address.insert(2,'lng',lng)\n",
    "df_address.head()"
   ]
  },
  {
   "cell_type": "code",
   "execution_count": 2,
   "metadata": {},
   "outputs": [
    {
     "ename": "NameError",
     "evalue": "name 'df_address' is not defined",
     "output_type": "error",
     "traceback": [
      "\u001b[0;31m---------------------------------------------------------------------------\u001b[0m",
      "\u001b[0;31mNameError\u001b[0m                                 Traceback (most recent call last)",
      "Cell \u001b[0;32mIn[2], line 1\u001b[0m\n\u001b[0;32m----> 1\u001b[0m df_address\u001b[39m.\u001b[39mto_csv(\u001b[39m'\u001b[39m\u001b[39mdf_address.csv\u001b[39m\u001b[39m'\u001b[39m, index \u001b[39m=\u001b[39m \u001b[39mFalse\u001b[39;00m)\n",
      "\u001b[0;31mNameError\u001b[0m: name 'df_address' is not defined"
     ]
    }
   ],
   "source": [
    "df_address.to_csv('df_address.csv', index = False)"
   ]
  }
 ],
 "metadata": {
  "kernelspec": {
   "display_name": "secondEnv",
   "language": "python",
   "name": "python3"
  },
  "language_info": {
   "codemirror_mode": {
    "name": "ipython",
    "version": 3
   },
   "file_extension": ".py",
   "mimetype": "text/x-python",
   "name": "python",
   "nbconvert_exporter": "python",
   "pygments_lexer": "ipython3",
   "version": "3.9.16"
  },
  "orig_nbformat": 4
 },
 "nbformat": 4,
 "nbformat_minor": 2
}

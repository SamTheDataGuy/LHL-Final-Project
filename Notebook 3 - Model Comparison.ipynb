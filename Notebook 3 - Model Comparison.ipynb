{
 "cells": [
  {
   "cell_type": "code",
   "execution_count": 316,
   "metadata": {},
   "outputs": [],
   "source": [
    "# Imports\n",
    "import pandas as pd\n",
    "import numpy as np\n",
    "import seaborn as sns\n",
    "from matplotlib import pyplot as plt\n",
    "import requests\n",
    "import os\n",
    "import datetime as dt\n",
    "from datetime import timedelta, date"
   ]
  },
  {
   "cell_type": "markdown",
   "metadata": {},
   "source": [
    "# EDA"
   ]
  },
  {
   "cell_type": "markdown",
   "metadata": {},
   "source": [
    "First we need to import the incident list dataframe"
   ]
  },
  {
   "cell_type": "code",
   "execution_count": 317,
   "metadata": {},
   "outputs": [],
   "source": [
    "df = pd.read_csv('df.csv')"
   ]
  },
  {
   "cell_type": "markdown",
   "metadata": {},
   "source": [
    "The longitude and latitude of each address was found in the 'Google Geocoding API' notebook. We'll import a dataframe of all unique addresses with their coordinates and indicent count here."
   ]
  },
  {
   "cell_type": "code",
   "execution_count": 318,
   "metadata": {},
   "outputs": [],
   "source": [
    "df_address_geo = pd.read_csv('df_address_geo.csv')"
   ]
  },
  {
   "cell_type": "markdown",
   "metadata": {},
   "source": [
    "Now we add the coordinates to the incidents dataframe"
   ]
  },
  {
   "cell_type": "code",
   "execution_count": 319,
   "metadata": {},
   "outputs": [
    {
     "data": {
      "text/html": [
       "<div>\n",
       "<style scoped>\n",
       "    .dataframe tbody tr th:only-of-type {\n",
       "        vertical-align: middle;\n",
       "    }\n",
       "\n",
       "    .dataframe tbody tr th {\n",
       "        vertical-align: top;\n",
       "    }\n",
       "\n",
       "    .dataframe thead th {\n",
       "        text-align: right;\n",
       "    }\n",
       "</style>\n",
       "<table border=\"1\" class=\"dataframe\">\n",
       "  <thead>\n",
       "    <tr style=\"text-align: right;\">\n",
       "      <th></th>\n",
       "      <th>ccn</th>\n",
       "      <th>date</th>\n",
       "      <th>city</th>\n",
       "      <th>state</th>\n",
       "      <th>blocksizedAddress</th>\n",
       "      <th>parentIncidentType</th>\n",
       "      <th>narrative</th>\n",
       "      <th>address</th>\n",
       "      <th>lat</th>\n",
       "      <th>lng</th>\n",
       "    </tr>\n",
       "  </thead>\n",
       "  <tbody>\n",
       "    <tr>\n",
       "      <th>0</th>\n",
       "      <td>CA23018227</td>\n",
       "      <td>12/25/2022, 12:00:00 AM</td>\n",
       "      <td>LETHBRIDGE</td>\n",
       "      <td>AB</td>\n",
       "      <td>1600 Block ST GEORGE RD</td>\n",
       "      <td>Assault</td>\n",
       "      <td>Assault</td>\n",
       "      <td>1600 ST GEORGE RD, LETHBRIDGE, AB, Canada</td>\n",
       "      <td>49.719971</td>\n",
       "      <td>-112.832000</td>\n",
       "    </tr>\n",
       "    <tr>\n",
       "      <th>1</th>\n",
       "      <td>CA23016523</td>\n",
       "      <td>12/01/2022, 9:04:00 AM</td>\n",
       "      <td>LETHBRIDGE</td>\n",
       "      <td>AB</td>\n",
       "      <td>100 Block GOLDENROD RD</td>\n",
       "      <td>Other</td>\n",
       "      <td>Fraud - Identity Fraud</td>\n",
       "      <td>100 GOLDENROD RD, LETHBRIDGE, AB, Canada</td>\n",
       "      <td>49.693938</td>\n",
       "      <td>-112.910940</td>\n",
       "    </tr>\n",
       "    <tr>\n",
       "      <th>2</th>\n",
       "      <td>RM23054146</td>\n",
       "      <td>10/21/2022, 4:00:00 PM</td>\n",
       "      <td>LETHBRIDGE</td>\n",
       "      <td>AB</td>\n",
       "      <td>100 Block FAIRMONT BD</td>\n",
       "      <td>Other</td>\n",
       "      <td>Proceeds Of Crime Criminal Cod</td>\n",
       "      <td>100 FAIRMONT BD, LETHBRIDGE, AB, Canada</td>\n",
       "      <td>49.666273</td>\n",
       "      <td>-112.789834</td>\n",
       "    </tr>\n",
       "    <tr>\n",
       "      <th>3</th>\n",
       "      <td>CA23008687</td>\n",
       "      <td>11/01/2022, 7:00:00 AM</td>\n",
       "      <td>LETHBRIDGE</td>\n",
       "      <td>AB</td>\n",
       "      <td>1 Block BLACKFOOT CI</td>\n",
       "      <td>Sexual Offense</td>\n",
       "      <td>Sexual Assault</td>\n",
       "      <td>1 BLACKFOOT CI, LETHBRIDGE, AB, Canada</td>\n",
       "      <td>49.679674</td>\n",
       "      <td>-112.896003</td>\n",
       "    </tr>\n",
       "    <tr>\n",
       "      <th>4</th>\n",
       "      <td>RM22058254</td>\n",
       "      <td>12/16/2022, 1:00:00 PM</td>\n",
       "      <td>LETHBRIDGE</td>\n",
       "      <td>AB</td>\n",
       "      <td>100 Block 1 AV</td>\n",
       "      <td>Other</td>\n",
       "      <td>Assist Others</td>\n",
       "      <td>100 1 AV, LETHBRIDGE, AB, Canada</td>\n",
       "      <td>49.697816</td>\n",
       "      <td>-112.840058</td>\n",
       "    </tr>\n",
       "  </tbody>\n",
       "</table>\n",
       "</div>"
      ],
      "text/plain": [
       "          ccn                     date        city state  \\\n",
       "0  CA23018227  12/25/2022, 12:00:00 AM  LETHBRIDGE    AB   \n",
       "1  CA23016523   12/01/2022, 9:04:00 AM  LETHBRIDGE    AB   \n",
       "2  RM23054146   10/21/2022, 4:00:00 PM  LETHBRIDGE    AB   \n",
       "3  CA23008687   11/01/2022, 7:00:00 AM  LETHBRIDGE    AB   \n",
       "4  RM22058254   12/16/2022, 1:00:00 PM  LETHBRIDGE    AB   \n",
       "\n",
       "         blocksizedAddress parentIncidentType                       narrative  \\\n",
       "0  1600 Block ST GEORGE RD            Assault                         Assault   \n",
       "1   100 Block GOLDENROD RD              Other          Fraud - Identity Fraud   \n",
       "2    100 Block FAIRMONT BD              Other  Proceeds Of Crime Criminal Cod   \n",
       "3     1 Block BLACKFOOT CI     Sexual Offense                  Sexual Assault   \n",
       "4           100 Block 1 AV              Other                   Assist Others   \n",
       "\n",
       "                                     address        lat         lng  \n",
       "0  1600 ST GEORGE RD, LETHBRIDGE, AB, Canada  49.719971 -112.832000  \n",
       "1   100 GOLDENROD RD, LETHBRIDGE, AB, Canada  49.693938 -112.910940  \n",
       "2    100 FAIRMONT BD, LETHBRIDGE, AB, Canada  49.666273 -112.789834  \n",
       "3     1 BLACKFOOT CI, LETHBRIDGE, AB, Canada  49.679674 -112.896003  \n",
       "4           100 1 AV, LETHBRIDGE, AB, Canada  49.697816 -112.840058  "
      ]
     },
     "execution_count": 319,
     "metadata": {},
     "output_type": "execute_result"
    }
   ],
   "source": [
    "df = df.merge(df_address_geo.drop('incidentCount', axis=1), on='address', how='left')\n",
    "df.head()"
   ]
  },
  {
   "cell_type": "markdown",
   "metadata": {},
   "source": [
    "Let's visualize the number of incidents for each block on a scatter plot"
   ]
  },
  {
   "cell_type": "code",
   "execution_count": 320,
   "metadata": {},
   "outputs": [],
   "source": [
    "df.to_csv('df2.csv',index=False)"
   ]
  },
  {
   "cell_type": "code",
   "execution_count": 321,
   "metadata": {},
   "outputs": [
    {
     "data": {
      "text/plain": [
       "2193"
      ]
     },
     "execution_count": 321,
     "metadata": {},
     "output_type": "execute_result"
    }
   ],
   "source": [
    "df_address_geo['incidentCount'].max()"
   ]
  },
  {
   "cell_type": "code",
   "execution_count": 322,
   "metadata": {},
   "outputs": [
    {
     "data": {
      "text/plain": [
       "<matplotlib.colorbar.Colorbar at 0x2b1bd70a0>"
      ]
     },
     "execution_count": 322,
     "metadata": {},
     "output_type": "execute_result"
    },
    {
     "data": {
      "image/png": "[encoded data removed]",
      "text/plain": [
       "<Figure size 1200x700 with 2 Axes>"
      ]
     },
     "metadata": {},
     "output_type": "display_data"
    }
   ],
   "source": [
    "plt.figure(figsize=(12,7))\n",
    "plt.scatter(df_address_geo['lng'], df_address_geo['lat'], c=df_address_geo['incidentCount'], cmap='Reds', s=8)\n",
    "plt.colorbar()"
   ]
  },
  {
   "cell_type": "markdown",
   "metadata": {},
   "source": [
    "## Creating Block-Date DataFrame"
   ]
  },
  {
   "cell_type": "markdown",
   "metadata": {},
   "source": [
    "Now we need to make a dataframe where each row is a unique 'block-hour'.  Let's start by converting date strings to datetimes."
   ]
  },
  {
   "cell_type": "code",
   "execution_count": 323,
   "metadata": {},
   "outputs": [
    {
     "name": "stderr",
     "output_type": "stream",
     "text": [
      "/var/folders/t5/t3vd2l292dz2vlb6dq_km0fh0000gn/T/ipykernel_49498/63736465.py:1: UserWarning: The argument 'infer_datetime_format' is deprecated and will be removed in a future version. A strict version of it is now the default, see https://pandas.pydata.org/pdeps/0004-consistent-to-datetime-parsing.html. You can safely remove this argument.\n",
      "  df['date'] = pd.to_datetime(df['date'], infer_datetime_format=True)\n",
      "/var/folders/t5/t3vd2l292dz2vlb6dq_km0fh0000gn/T/ipykernel_49498/63736465.py:1: UserWarning: Could not infer format, so each element will be parsed individually, falling back to `dateutil`. To ensure parsing is consistent and as-expected, please specify a format.\n",
      "  df['date'] = pd.to_datetime(df['date'], infer_datetime_format=True)\n"
     ]
    }
   ],
   "source": [
    "df['date'] = pd.to_datetime(df['date'], infer_datetime_format=True)"
   ]
  },
  {
   "cell_type": "code",
   "execution_count": 324,
   "metadata": {},
   "outputs": [],
   "source": [
    "df_incidentBlockDate = df.pivot_table(index=['address', df['date'].dt.date], values='lat', aggfunc='count').reset_index()\n",
    "df_incidentBlockDate.columns = ['address','date','incidentCount']\n",
    "df_incidentBlockDate['date'] = pd.to_datetime(df_incidentBlockDate['date'])"
   ]
  },
  {
   "cell_type": "code",
   "execution_count": 325,
   "metadata": {},
   "outputs": [
    {
     "data": {
      "text/html": [
       "<div>\n",
       "<style scoped>\n",
       "    .dataframe tbody tr th:only-of-type {\n",
       "        vertical-align: middle;\n",
       "    }\n",
       "\n",
       "    .dataframe tbody tr th {\n",
       "        vertical-align: top;\n",
       "    }\n",
       "\n",
       "    .dataframe thead th {\n",
       "        text-align: right;\n",
       "    }\n",
       "</style>\n",
       "<table border=\"1\" class=\"dataframe\">\n",
       "  <thead>\n",
       "    <tr style=\"text-align: right;\">\n",
       "      <th></th>\n",
       "      <th>address</th>\n",
       "      <th>date</th>\n",
       "      <th>dayOfWeek</th>\n",
       "      <th>incidentCount</th>\n",
       "      <th>lat</th>\n",
       "      <th>lng</th>\n",
       "      <th>incidentOccurred?</th>\n",
       "    </tr>\n",
       "  </thead>\n",
       "  <tbody>\n",
       "    <tr>\n",
       "      <th>0</th>\n",
       "      <td>1 1 AV, LETHBRIDGE, AB, Canada</td>\n",
       "      <td>2022-10-01</td>\n",
       "      <td>Saturday</td>\n",
       "      <td>0.0</td>\n",
       "      <td>49.697474</td>\n",
       "      <td>-112.850887</td>\n",
       "      <td>0</td>\n",
       "    </tr>\n",
       "    <tr>\n",
       "      <th>1</th>\n",
       "      <td>1 1 AV, LETHBRIDGE, AB, Canada</td>\n",
       "      <td>2022-10-02</td>\n",
       "      <td>Sunday</td>\n",
       "      <td>0.0</td>\n",
       "      <td>49.697474</td>\n",
       "      <td>-112.850887</td>\n",
       "      <td>0</td>\n",
       "    </tr>\n",
       "    <tr>\n",
       "      <th>2</th>\n",
       "      <td>1 1 AV, LETHBRIDGE, AB, Canada</td>\n",
       "      <td>2022-10-03</td>\n",
       "      <td>Monday</td>\n",
       "      <td>0.0</td>\n",
       "      <td>49.697474</td>\n",
       "      <td>-112.850887</td>\n",
       "      <td>0</td>\n",
       "    </tr>\n",
       "    <tr>\n",
       "      <th>3</th>\n",
       "      <td>1 1 AV, LETHBRIDGE, AB, Canada</td>\n",
       "      <td>2022-10-04</td>\n",
       "      <td>Tuesday</td>\n",
       "      <td>0.0</td>\n",
       "      <td>49.697474</td>\n",
       "      <td>-112.850887</td>\n",
       "      <td>0</td>\n",
       "    </tr>\n",
       "    <tr>\n",
       "      <th>4</th>\n",
       "      <td>1 1 AV, LETHBRIDGE, AB, Canada</td>\n",
       "      <td>2022-10-05</td>\n",
       "      <td>Wednesday</td>\n",
       "      <td>0.0</td>\n",
       "      <td>49.697474</td>\n",
       "      <td>-112.850887</td>\n",
       "      <td>0</td>\n",
       "    </tr>\n",
       "    <tr>\n",
       "      <th>...</th>\n",
       "      <td>...</td>\n",
       "      <td>...</td>\n",
       "      <td>...</td>\n",
       "      <td>...</td>\n",
       "      <td>...</td>\n",
       "      <td>...</td>\n",
       "      <td>...</td>\n",
       "    </tr>\n",
       "    <tr>\n",
       "      <th>611870</th>\n",
       "      <td>900 VENTURA CR, LETHBRIDGE, AB, Canada</td>\n",
       "      <td>2023-06-28</td>\n",
       "      <td>Wednesday</td>\n",
       "      <td>0.0</td>\n",
       "      <td>49.714012</td>\n",
       "      <td>-112.838589</td>\n",
       "      <td>0</td>\n",
       "    </tr>\n",
       "    <tr>\n",
       "      <th>611871</th>\n",
       "      <td>900 VENTURA CR, LETHBRIDGE, AB, Canada</td>\n",
       "      <td>2023-06-29</td>\n",
       "      <td>Thursday</td>\n",
       "      <td>0.0</td>\n",
       "      <td>49.714012</td>\n",
       "      <td>-112.838589</td>\n",
       "      <td>0</td>\n",
       "    </tr>\n",
       "    <tr>\n",
       "      <th>611872</th>\n",
       "      <td>900 VENTURA CR, LETHBRIDGE, AB, Canada</td>\n",
       "      <td>2023-06-30</td>\n",
       "      <td>Friday</td>\n",
       "      <td>0.0</td>\n",
       "      <td>49.714012</td>\n",
       "      <td>-112.838589</td>\n",
       "      <td>0</td>\n",
       "    </tr>\n",
       "    <tr>\n",
       "      <th>611873</th>\n",
       "      <td>900 VENTURA CR, LETHBRIDGE, AB, Canada</td>\n",
       "      <td>2023-07-01</td>\n",
       "      <td>Saturday</td>\n",
       "      <td>0.0</td>\n",
       "      <td>49.714012</td>\n",
       "      <td>-112.838589</td>\n",
       "      <td>0</td>\n",
       "    </tr>\n",
       "    <tr>\n",
       "      <th>611874</th>\n",
       "      <td>900 VENTURA CR, LETHBRIDGE, AB, Canada</td>\n",
       "      <td>2023-07-02</td>\n",
       "      <td>Sunday</td>\n",
       "      <td>0.0</td>\n",
       "      <td>49.714012</td>\n",
       "      <td>-112.838589</td>\n",
       "      <td>0</td>\n",
       "    </tr>\n",
       "  </tbody>\n",
       "</table>\n",
       "<p>611875 rows × 7 columns</p>\n",
       "</div>"
      ],
      "text/plain": [
       "                                       address       date  dayOfWeek  \\\n",
       "0               1 1 AV, LETHBRIDGE, AB, Canada 2022-10-01   Saturday   \n",
       "1               1 1 AV, LETHBRIDGE, AB, Canada 2022-10-02     Sunday   \n",
       "2               1 1 AV, LETHBRIDGE, AB, Canada 2022-10-03     Monday   \n",
       "3               1 1 AV, LETHBRIDGE, AB, Canada 2022-10-04    Tuesday   \n",
       "4               1 1 AV, LETHBRIDGE, AB, Canada 2022-10-05  Wednesday   \n",
       "...                                        ...        ...        ...   \n",
       "611870  900 VENTURA CR, LETHBRIDGE, AB, Canada 2023-06-28  Wednesday   \n",
       "611871  900 VENTURA CR, LETHBRIDGE, AB, Canada 2023-06-29   Thursday   \n",
       "611872  900 VENTURA CR, LETHBRIDGE, AB, Canada 2023-06-30     Friday   \n",
       "611873  900 VENTURA CR, LETHBRIDGE, AB, Canada 2023-07-01   Saturday   \n",
       "611874  900 VENTURA CR, LETHBRIDGE, AB, Canada 2023-07-02     Sunday   \n",
       "\n",
       "        incidentCount        lat         lng  incidentOccurred?  \n",
       "0                 0.0  49.697474 -112.850887                  0  \n",
       "1                 0.0  49.697474 -112.850887                  0  \n",
       "2                 0.0  49.697474 -112.850887                  0  \n",
       "3                 0.0  49.697474 -112.850887                  0  \n",
       "4                 0.0  49.697474 -112.850887                  0  \n",
       "...               ...        ...         ...                ...  \n",
       "611870            0.0  49.714012 -112.838589                  0  \n",
       "611871            0.0  49.714012 -112.838589                  0  \n",
       "611872            0.0  49.714012 -112.838589                  0  \n",
       "611873            0.0  49.714012 -112.838589                  0  \n",
       "611874            0.0  49.714012 -112.838589                  0  \n",
       "\n",
       "[611875 rows x 7 columns]"
      ]
     },
     "execution_count": 325,
     "metadata": {},
     "output_type": "execute_result"
    }
   ],
   "source": [
    "# Creating a dataframe that has a row for every combination of address (block) and date\n",
    "\n",
    "date_min = df['date'].min().date()\n",
    "date_max = df['date'].max().date() + timedelta(days=1)\n",
    "\n",
    "addresses = df_address_geo['address']\n",
    "dates = pd.date_range(start=date_min, end=date_max)\n",
    "time_interval = ['00:00-06:00', '06:00-12:00', '12:00-18:00', '18:00-24:00']\n",
    "\n",
    "df_blockDate = pd.DataFrame([(a,d) for a in addresses for d in dates])\n",
    "df_blockDate.columns = ['address', 'date']\n",
    "df_blockDate = df_blockDate.merge(df_incidentBlockDate, on=['address','date'], how='left').fillna(0)\n",
    "\n",
    "df_blockDate = df_blockDate.merge(df_address_geo.drop('incidentCount', axis=1), on='address', how='left')\n",
    "df_blockDate.columns = ['address', 'date', 'incidentCount', 'lat', 'lng']\n",
    "\n",
    "df_blockDate.insert(5, 'incidentOccurred?', (df_blockDate['incidentCount'] > 0)*1)\n",
    "df_blockDate.insert(2, 'dayOfWeek', df_blockDate['date'].dt.strftime('%A'))\n",
    "\n",
    "df_blockDate"
   ]
  },
  {
   "cell_type": "code",
   "execution_count": 326,
   "metadata": {},
   "outputs": [],
   "source": [
    "df_incidentChance = df_blockDate.pivot_table(index='address', values='incidentOccurred?', aggfunc='mean').reset_index()\n",
    "df_incidentChance.columns = ['address', 'incidentChance']\n",
    "\n",
    "df_timeseries = df_blockDate.pivot_table(index='date', values='incidentCount', aggfunc='sum').reset_index()"
   ]
  },
  {
   "cell_type": "code",
   "execution_count": 327,
   "metadata": {},
   "outputs": [
    {
     "data": {
      "text/plain": [
       "0     2022-10-01\n",
       "1     2022-10-02\n",
       "2     2022-10-03\n",
       "3     2022-10-04\n",
       "4     2022-10-05\n",
       "         ...    \n",
       "268   2023-06-26\n",
       "269   2023-06-27\n",
       "270   2023-06-28\n",
       "271   2023-06-29\n",
       "272   2023-06-30\n",
       "Name: date, Length: 273, dtype: datetime64[ns]"
      ]
     },
     "execution_count": 327,
     "metadata": {},
     "output_type": "execute_result"
    }
   ],
   "source": [
    "df_timeseries['date'][:-2]"
   ]
  },
  {
   "cell_type": "code",
   "execution_count": 328,
   "metadata": {},
   "outputs": [
    {
     "data": {
      "text/plain": [
       "(0.0, 300.0)"
      ]
     },
     "execution_count": 328,
     "metadata": {},
     "output_type": "execute_result"
    },
    {
     "data": {
      "image/png": "[encoded data removed]",
      "text/plain": [
       "<Figure size 1000x700 with 1 Axes>"
      ]
     },
     "metadata": {},
     "output_type": "display_data"
    }
   ],
   "source": [
    "plt.figure(figsize=(10,7))\n",
    "plt.plot(df_timeseries['date'][:-2],df_timeseries['incidentCount'][:-2])\n",
    "plt.ylabel('Incident Count')\n",
    "plt.xlabel('Date')\n",
    "plt.ylim(0, 300)"
   ]
  },
  {
   "cell_type": "code",
   "execution_count": 329,
   "metadata": {},
   "outputs": [
    {
     "data": {
      "text/plain": [
       "incidentOccurred?\n",
       "0    584249\n",
       "1     27626\n",
       "Name: count, dtype: int64"
      ]
     },
     "execution_count": 329,
     "metadata": {},
     "output_type": "execute_result"
    }
   ],
   "source": [
    "df_blockDate['incidentOccurred?'].value_counts()"
   ]
  },
  {
   "cell_type": "code",
   "execution_count": 330,
   "metadata": {},
   "outputs": [
    {
     "data": {
      "text/html": [
       "<div>\n",
       "<style scoped>\n",
       "    .dataframe tbody tr th:only-of-type {\n",
       "        vertical-align: middle;\n",
       "    }\n",
       "\n",
       "    .dataframe tbody tr th {\n",
       "        vertical-align: top;\n",
       "    }\n",
       "\n",
       "    .dataframe thead th {\n",
       "        text-align: right;\n",
       "    }\n",
       "</style>\n",
       "<table border=\"1\" class=\"dataframe\">\n",
       "  <thead>\n",
       "    <tr style=\"text-align: right;\">\n",
       "      <th></th>\n",
       "      <th>address</th>\n",
       "      <th>date</th>\n",
       "      <th>dayOfWeek</th>\n",
       "      <th>incidentCount</th>\n",
       "      <th>lat</th>\n",
       "      <th>lng</th>\n",
       "      <th>incidentOccurred?</th>\n",
       "    </tr>\n",
       "  </thead>\n",
       "  <tbody>\n",
       "    <tr>\n",
       "      <th>0</th>\n",
       "      <td>1 1 AV, LETHBRIDGE, AB, Canada</td>\n",
       "      <td>2022-10-01</td>\n",
       "      <td>Saturday</td>\n",
       "      <td>0.0</td>\n",
       "      <td>49.697474</td>\n",
       "      <td>-112.850887</td>\n",
       "      <td>0</td>\n",
       "    </tr>\n",
       "    <tr>\n",
       "      <th>1</th>\n",
       "      <td>1 1 AV, LETHBRIDGE, AB, Canada</td>\n",
       "      <td>2022-10-02</td>\n",
       "      <td>Sunday</td>\n",
       "      <td>0.0</td>\n",
       "      <td>49.697474</td>\n",
       "      <td>-112.850887</td>\n",
       "      <td>0</td>\n",
       "    </tr>\n",
       "    <tr>\n",
       "      <th>2</th>\n",
       "      <td>1 1 AV, LETHBRIDGE, AB, Canada</td>\n",
       "      <td>2022-10-03</td>\n",
       "      <td>Monday</td>\n",
       "      <td>0.0</td>\n",
       "      <td>49.697474</td>\n",
       "      <td>-112.850887</td>\n",
       "      <td>0</td>\n",
       "    </tr>\n",
       "    <tr>\n",
       "      <th>3</th>\n",
       "      <td>1 1 AV, LETHBRIDGE, AB, Canada</td>\n",
       "      <td>2022-10-04</td>\n",
       "      <td>Tuesday</td>\n",
       "      <td>0.0</td>\n",
       "      <td>49.697474</td>\n",
       "      <td>-112.850887</td>\n",
       "      <td>0</td>\n",
       "    </tr>\n",
       "    <tr>\n",
       "      <th>4</th>\n",
       "      <td>1 1 AV, LETHBRIDGE, AB, Canada</td>\n",
       "      <td>2022-10-05</td>\n",
       "      <td>Wednesday</td>\n",
       "      <td>0.0</td>\n",
       "      <td>49.697474</td>\n",
       "      <td>-112.850887</td>\n",
       "      <td>0</td>\n",
       "    </tr>\n",
       "    <tr>\n",
       "      <th>...</th>\n",
       "      <td>...</td>\n",
       "      <td>...</td>\n",
       "      <td>...</td>\n",
       "      <td>...</td>\n",
       "      <td>...</td>\n",
       "      <td>...</td>\n",
       "      <td>...</td>\n",
       "    </tr>\n",
       "    <tr>\n",
       "      <th>611870</th>\n",
       "      <td>900 VENTURA CR, LETHBRIDGE, AB, Canada</td>\n",
       "      <td>2023-06-28</td>\n",
       "      <td>Wednesday</td>\n",
       "      <td>0.0</td>\n",
       "      <td>49.714012</td>\n",
       "      <td>-112.838589</td>\n",
       "      <td>0</td>\n",
       "    </tr>\n",
       "    <tr>\n",
       "      <th>611871</th>\n",
       "      <td>900 VENTURA CR, LETHBRIDGE, AB, Canada</td>\n",
       "      <td>2023-06-29</td>\n",
       "      <td>Thursday</td>\n",
       "      <td>0.0</td>\n",
       "      <td>49.714012</td>\n",
       "      <td>-112.838589</td>\n",
       "      <td>0</td>\n",
       "    </tr>\n",
       "    <tr>\n",
       "      <th>611872</th>\n",
       "      <td>900 VENTURA CR, LETHBRIDGE, AB, Canada</td>\n",
       "      <td>2023-06-30</td>\n",
       "      <td>Friday</td>\n",
       "      <td>0.0</td>\n",
       "      <td>49.714012</td>\n",
       "      <td>-112.838589</td>\n",
       "      <td>0</td>\n",
       "    </tr>\n",
       "    <tr>\n",
       "      <th>611873</th>\n",
       "      <td>900 VENTURA CR, LETHBRIDGE, AB, Canada</td>\n",
       "      <td>2023-07-01</td>\n",
       "      <td>Saturday</td>\n",
       "      <td>0.0</td>\n",
       "      <td>49.714012</td>\n",
       "      <td>-112.838589</td>\n",
       "      <td>0</td>\n",
       "    </tr>\n",
       "    <tr>\n",
       "      <th>611874</th>\n",
       "      <td>900 VENTURA CR, LETHBRIDGE, AB, Canada</td>\n",
       "      <td>2023-07-02</td>\n",
       "      <td>Sunday</td>\n",
       "      <td>0.0</td>\n",
       "      <td>49.714012</td>\n",
       "      <td>-112.838589</td>\n",
       "      <td>0</td>\n",
       "    </tr>\n",
       "  </tbody>\n",
       "</table>\n",
       "<p>611875 rows × 7 columns</p>\n",
       "</div>"
      ],
      "text/plain": [
       "                                       address       date  dayOfWeek  \\\n",
       "0               1 1 AV, LETHBRIDGE, AB, Canada 2022-10-01   Saturday   \n",
       "1               1 1 AV, LETHBRIDGE, AB, Canada 2022-10-02     Sunday   \n",
       "2               1 1 AV, LETHBRIDGE, AB, Canada 2022-10-03     Monday   \n",
       "3               1 1 AV, LETHBRIDGE, AB, Canada 2022-10-04    Tuesday   \n",
       "4               1 1 AV, LETHBRIDGE, AB, Canada 2022-10-05  Wednesday   \n",
       "...                                        ...        ...        ...   \n",
       "611870  900 VENTURA CR, LETHBRIDGE, AB, Canada 2023-06-28  Wednesday   \n",
       "611871  900 VENTURA CR, LETHBRIDGE, AB, Canada 2023-06-29   Thursday   \n",
       "611872  900 VENTURA CR, LETHBRIDGE, AB, Canada 2023-06-30     Friday   \n",
       "611873  900 VENTURA CR, LETHBRIDGE, AB, Canada 2023-07-01   Saturday   \n",
       "611874  900 VENTURA CR, LETHBRIDGE, AB, Canada 2023-07-02     Sunday   \n",
       "\n",
       "        incidentCount        lat         lng  incidentOccurred?  \n",
       "0                 0.0  49.697474 -112.850887                  0  \n",
       "1                 0.0  49.697474 -112.850887                  0  \n",
       "2                 0.0  49.697474 -112.850887                  0  \n",
       "3                 0.0  49.697474 -112.850887                  0  \n",
       "4                 0.0  49.697474 -112.850887                  0  \n",
       "...               ...        ...         ...                ...  \n",
       "611870            0.0  49.714012 -112.838589                  0  \n",
       "611871            0.0  49.714012 -112.838589                  0  \n",
       "611872            0.0  49.714012 -112.838589                  0  \n",
       "611873            0.0  49.714012 -112.838589                  0  \n",
       "611874            0.0  49.714012 -112.838589                  0  \n",
       "\n",
       "[611875 rows x 7 columns]"
      ]
     },
     "execution_count": 330,
     "metadata": {},
     "output_type": "execute_result"
    }
   ],
   "source": [
    "df_blockDate"
   ]
  },
  {
   "cell_type": "code",
   "execution_count": 331,
   "metadata": {},
   "outputs": [
    {
     "data": {
      "text/html": [
       "<div>\n",
       "<style scoped>\n",
       "    .dataframe tbody tr th:only-of-type {\n",
       "        vertical-align: middle;\n",
       "    }\n",
       "\n",
       "    .dataframe tbody tr th {\n",
       "        vertical-align: top;\n",
       "    }\n",
       "\n",
       "    .dataframe thead th {\n",
       "        text-align: right;\n",
       "    }\n",
       "</style>\n",
       "<table border=\"1\" class=\"dataframe\">\n",
       "  <thead>\n",
       "    <tr style=\"text-align: right;\">\n",
       "      <th></th>\n",
       "      <th>ccn</th>\n",
       "      <th>date</th>\n",
       "      <th>city</th>\n",
       "      <th>state</th>\n",
       "      <th>blocksizedAddress</th>\n",
       "      <th>parentIncidentType</th>\n",
       "      <th>narrative</th>\n",
       "      <th>address</th>\n",
       "      <th>lat</th>\n",
       "      <th>lng</th>\n",
       "    </tr>\n",
       "  </thead>\n",
       "  <tbody>\n",
       "    <tr>\n",
       "      <th>68</th>\n",
       "      <td>CA22022522</td>\n",
       "      <td>2022-10-05 15:00:00</td>\n",
       "      <td>LETHBRIDGE</td>\n",
       "      <td>AB</td>\n",
       "      <td>1800 Block 23 ST</td>\n",
       "      <td>Other</td>\n",
       "      <td>Check On Welfare</td>\n",
       "      <td>1800 23 ST, LETHBRIDGE, AB, Canada</td>\n",
       "      <td>49.720937</td>\n",
       "      <td>-112.810393</td>\n",
       "    </tr>\n",
       "    <tr>\n",
       "      <th>410</th>\n",
       "      <td>CA22022053</td>\n",
       "      <td>2022-10-05 06:16:00</td>\n",
       "      <td>LETHBRIDGE</td>\n",
       "      <td>AB</td>\n",
       "      <td>2300 Block 13 ST</td>\n",
       "      <td>Theft from Vehicle</td>\n",
       "      <td>Theft From Auto Under</td>\n",
       "      <td>2300 13 ST, LETHBRIDGE, AB, Canada</td>\n",
       "      <td>49.725008</td>\n",
       "      <td>-112.825161</td>\n",
       "    </tr>\n",
       "    <tr>\n",
       "      <th>4663</th>\n",
       "      <td>AR22100771</td>\n",
       "      <td>2022-10-05 23:04:00</td>\n",
       "      <td>LETHBRIDGE</td>\n",
       "      <td>AB</td>\n",
       "      <td>1 Block HERITAGE BD</td>\n",
       "      <td>Theft from Vehicle</td>\n",
       "      <td>Mischief to MV</td>\n",
       "      <td>1 HERITAGE BD, LETHBRIDGE, AB, Canada</td>\n",
       "      <td>49.693513</td>\n",
       "      <td>-112.888448</td>\n",
       "    </tr>\n",
       "    <tr>\n",
       "      <th>11149</th>\n",
       "      <td>CA22022099</td>\n",
       "      <td>2022-10-05 17:12:00</td>\n",
       "      <td>LETHBRIDGE</td>\n",
       "      <td>AB</td>\n",
       "      <td>1 Block PARK MEADOWS BD</td>\n",
       "      <td>Other</td>\n",
       "      <td>Check On Welfare</td>\n",
       "      <td>1 PARK MEADOWS BD, LETHBRIDGE, AB, Canada</td>\n",
       "      <td>49.721026</td>\n",
       "      <td>-112.810262</td>\n",
       "    </tr>\n",
       "    <tr>\n",
       "      <th>12517</th>\n",
       "      <td>CA22022040</td>\n",
       "      <td>2022-10-05 03:51:00</td>\n",
       "      <td>LETHBRIDGE</td>\n",
       "      <td>AB</td>\n",
       "      <td>1100 Block 27 ST</td>\n",
       "      <td>Other</td>\n",
       "      <td>Landlord &amp; Tenant</td>\n",
       "      <td>1100 27 ST, LETHBRIDGE, AB, Canada</td>\n",
       "      <td>49.681706</td>\n",
       "      <td>-112.802900</td>\n",
       "    </tr>\n",
       "    <tr>\n",
       "      <th>...</th>\n",
       "      <td>...</td>\n",
       "      <td>...</td>\n",
       "      <td>...</td>\n",
       "      <td>...</td>\n",
       "      <td>...</td>\n",
       "      <td>...</td>\n",
       "      <td>...</td>\n",
       "      <td>...</td>\n",
       "      <td>...</td>\n",
       "      <td>...</td>\n",
       "    </tr>\n",
       "    <tr>\n",
       "      <th>15942</th>\n",
       "      <td>P22047143</td>\n",
       "      <td>2022-10-05 01:53:25</td>\n",
       "      <td>LETHBRIDGE</td>\n",
       "      <td>AB</td>\n",
       "      <td>500 Block STAFFORD DR</td>\n",
       "      <td>Quality of Life</td>\n",
       "      <td>DISTURBANCE/NUISANCE</td>\n",
       "      <td>500 STAFFORD DR, LETHBRIDGE, AB, Canada</td>\n",
       "      <td>49.705223</td>\n",
       "      <td>-112.833880</td>\n",
       "    </tr>\n",
       "    <tr>\n",
       "      <th>15943</th>\n",
       "      <td>P22047144</td>\n",
       "      <td>2022-10-05 01:54:15</td>\n",
       "      <td>LETHBRIDGE</td>\n",
       "      <td>AB</td>\n",
       "      <td>500 Block 21 ST</td>\n",
       "      <td>Other</td>\n",
       "      <td>PUBLIC SERVICE (LOCK-OUT/LOCK-IN, PEACE, WELFA...</td>\n",
       "      <td>500 21 ST, LETHBRIDGE, AB, Canada</td>\n",
       "      <td>49.693111</td>\n",
       "      <td>-112.811428</td>\n",
       "    </tr>\n",
       "    <tr>\n",
       "      <th>15947</th>\n",
       "      <td>P22047130</td>\n",
       "      <td>2022-10-05 00:03:29</td>\n",
       "      <td>LETHBRIDGE</td>\n",
       "      <td>AB</td>\n",
       "      <td>200 Block 4 AV</td>\n",
       "      <td>Other</td>\n",
       "      <td>SUPPLEMENTAL</td>\n",
       "      <td>200 4 AV, LETHBRIDGE, AB, Canada</td>\n",
       "      <td>49.693695</td>\n",
       "      <td>-112.841379</td>\n",
       "    </tr>\n",
       "    <tr>\n",
       "      <th>15948</th>\n",
       "      <td>P22047132</td>\n",
       "      <td>2022-10-05 00:17:26</td>\n",
       "      <td>LETHBRIDGE</td>\n",
       "      <td>AB</td>\n",
       "      <td>600 Block 8 ST</td>\n",
       "      <td>Sexual Offense</td>\n",
       "      <td>SEXUAL ASSAULT</td>\n",
       "      <td>600 8 ST, LETHBRIDGE, AB, Canada</td>\n",
       "      <td>49.690751</td>\n",
       "      <td>-112.835657</td>\n",
       "    </tr>\n",
       "    <tr>\n",
       "      <th>15949</th>\n",
       "      <td>P22047134</td>\n",
       "      <td>2022-10-05 00:36:17</td>\n",
       "      <td>LETHBRIDGE</td>\n",
       "      <td>AB</td>\n",
       "      <td>1200 Block 6 AV</td>\n",
       "      <td>Other</td>\n",
       "      <td>ABUSE/ABANDONMENT/NEGLECT</td>\n",
       "      <td>1200 6 AV, LETHBRIDGE, AB, Canada</td>\n",
       "      <td>49.691187</td>\n",
       "      <td>-112.828222</td>\n",
       "    </tr>\n",
       "  </tbody>\n",
       "</table>\n",
       "<p>224 rows × 10 columns</p>\n",
       "</div>"
      ],
      "text/plain": [
       "              ccn                date        city state  \\\n",
       "68     CA22022522 2022-10-05 15:00:00  LETHBRIDGE    AB   \n",
       "410    CA22022053 2022-10-05 06:16:00  LETHBRIDGE    AB   \n",
       "4663   AR22100771 2022-10-05 23:04:00  LETHBRIDGE    AB   \n",
       "11149  CA22022099 2022-10-05 17:12:00  LETHBRIDGE    AB   \n",
       "12517  CA22022040 2022-10-05 03:51:00  LETHBRIDGE    AB   \n",
       "...           ...                 ...         ...   ...   \n",
       "15942   P22047143 2022-10-05 01:53:25  LETHBRIDGE    AB   \n",
       "15943   P22047144 2022-10-05 01:54:15  LETHBRIDGE    AB   \n",
       "15947   P22047130 2022-10-05 00:03:29  LETHBRIDGE    AB   \n",
       "15948   P22047132 2022-10-05 00:17:26  LETHBRIDGE    AB   \n",
       "15949   P22047134 2022-10-05 00:36:17  LETHBRIDGE    AB   \n",
       "\n",
       "             blocksizedAddress  parentIncidentType  \\\n",
       "68            1800 Block 23 ST               Other   \n",
       "410           2300 Block 13 ST  Theft from Vehicle   \n",
       "4663       1 Block HERITAGE BD  Theft from Vehicle   \n",
       "11149  1 Block PARK MEADOWS BD               Other   \n",
       "12517         1100 Block 27 ST               Other   \n",
       "...                        ...                 ...   \n",
       "15942    500 Block STAFFORD DR     Quality of Life   \n",
       "15943          500 Block 21 ST               Other   \n",
       "15947           200 Block 4 AV               Other   \n",
       "15948           600 Block 8 ST      Sexual Offense   \n",
       "15949          1200 Block 6 AV               Other   \n",
       "\n",
       "                                               narrative  \\\n",
       "68                                      Check On Welfare   \n",
       "410                                Theft From Auto Under   \n",
       "4663                                      Mischief to MV   \n",
       "11149                                   Check On Welfare   \n",
       "12517                                  Landlord & Tenant   \n",
       "...                                                  ...   \n",
       "15942                               DISTURBANCE/NUISANCE   \n",
       "15943  PUBLIC SERVICE (LOCK-OUT/LOCK-IN, PEACE, WELFA...   \n",
       "15947                                       SUPPLEMENTAL   \n",
       "15948                                     SEXUAL ASSAULT   \n",
       "15949                          ABUSE/ABANDONMENT/NEGLECT   \n",
       "\n",
       "                                         address        lat         lng  \n",
       "68            1800 23 ST, LETHBRIDGE, AB, Canada  49.720937 -112.810393  \n",
       "410           2300 13 ST, LETHBRIDGE, AB, Canada  49.725008 -112.825161  \n",
       "4663       1 HERITAGE BD, LETHBRIDGE, AB, Canada  49.693513 -112.888448  \n",
       "11149  1 PARK MEADOWS BD, LETHBRIDGE, AB, Canada  49.721026 -112.810262  \n",
       "12517         1100 27 ST, LETHBRIDGE, AB, Canada  49.681706 -112.802900  \n",
       "...                                          ...        ...         ...  \n",
       "15942    500 STAFFORD DR, LETHBRIDGE, AB, Canada  49.705223 -112.833880  \n",
       "15943          500 21 ST, LETHBRIDGE, AB, Canada  49.693111 -112.811428  \n",
       "15947           200 4 AV, LETHBRIDGE, AB, Canada  49.693695 -112.841379  \n",
       "15948           600 8 ST, LETHBRIDGE, AB, Canada  49.690751 -112.835657  \n",
       "15949          1200 6 AV, LETHBRIDGE, AB, Canada  49.691187 -112.828222  \n",
       "\n",
       "[224 rows x 10 columns]"
      ]
     },
     "execution_count": 331,
     "metadata": {},
     "output_type": "execute_result"
    }
   ],
   "source": [
    "df[df['date'].dt.date==date(2022,10,5)]"
   ]
  },
  {
   "cell_type": "code",
   "execution_count": null,
   "metadata": {},
   "outputs": [],
   "source": []
  },
  {
   "cell_type": "code",
   "execution_count": 332,
   "metadata": {},
   "outputs": [
    {
     "data": {
      "text/html": [
       "<div>\n",
       "<style scoped>\n",
       "    .dataframe tbody tr th:only-of-type {\n",
       "        vertical-align: middle;\n",
       "    }\n",
       "\n",
       "    .dataframe tbody tr th {\n",
       "        vertical-align: top;\n",
       "    }\n",
       "\n",
       "    .dataframe thead th {\n",
       "        text-align: right;\n",
       "    }\n",
       "</style>\n",
       "<table border=\"1\" class=\"dataframe\">\n",
       "  <thead>\n",
       "    <tr style=\"text-align: right;\">\n",
       "      <th></th>\n",
       "      <th>address</th>\n",
       "      <th>date</th>\n",
       "      <th>dayOfWeek</th>\n",
       "      <th>incidentCount</th>\n",
       "      <th>lat</th>\n",
       "      <th>lng</th>\n",
       "      <th>incidentOccurred?</th>\n",
       "    </tr>\n",
       "  </thead>\n",
       "  <tbody>\n",
       "    <tr>\n",
       "      <th>0</th>\n",
       "      <td>1 1 AV, LETHBRIDGE, AB, Canada</td>\n",
       "      <td>2022-10-01</td>\n",
       "      <td>Saturday</td>\n",
       "      <td>0.0</td>\n",
       "      <td>49.697474</td>\n",
       "      <td>-112.850887</td>\n",
       "      <td>0</td>\n",
       "    </tr>\n",
       "    <tr>\n",
       "      <th>1</th>\n",
       "      <td>1 1 AV, LETHBRIDGE, AB, Canada</td>\n",
       "      <td>2022-10-02</td>\n",
       "      <td>Sunday</td>\n",
       "      <td>0.0</td>\n",
       "      <td>49.697474</td>\n",
       "      <td>-112.850887</td>\n",
       "      <td>0</td>\n",
       "    </tr>\n",
       "    <tr>\n",
       "      <th>2</th>\n",
       "      <td>1 1 AV, LETHBRIDGE, AB, Canada</td>\n",
       "      <td>2022-10-03</td>\n",
       "      <td>Monday</td>\n",
       "      <td>0.0</td>\n",
       "      <td>49.697474</td>\n",
       "      <td>-112.850887</td>\n",
       "      <td>0</td>\n",
       "    </tr>\n",
       "    <tr>\n",
       "      <th>3</th>\n",
       "      <td>1 1 AV, LETHBRIDGE, AB, Canada</td>\n",
       "      <td>2022-10-04</td>\n",
       "      <td>Tuesday</td>\n",
       "      <td>0.0</td>\n",
       "      <td>49.697474</td>\n",
       "      <td>-112.850887</td>\n",
       "      <td>0</td>\n",
       "    </tr>\n",
       "    <tr>\n",
       "      <th>4</th>\n",
       "      <td>1 1 AV, LETHBRIDGE, AB, Canada</td>\n",
       "      <td>2022-10-05</td>\n",
       "      <td>Wednesday</td>\n",
       "      <td>0.0</td>\n",
       "      <td>49.697474</td>\n",
       "      <td>-112.850887</td>\n",
       "      <td>0</td>\n",
       "    </tr>\n",
       "    <tr>\n",
       "      <th>...</th>\n",
       "      <td>...</td>\n",
       "      <td>...</td>\n",
       "      <td>...</td>\n",
       "      <td>...</td>\n",
       "      <td>...</td>\n",
       "      <td>...</td>\n",
       "      <td>...</td>\n",
       "    </tr>\n",
       "    <tr>\n",
       "      <th>611838</th>\n",
       "      <td>900 VENTURA CR, LETHBRIDGE, AB, Canada</td>\n",
       "      <td>2023-05-27</td>\n",
       "      <td>Saturday</td>\n",
       "      <td>0.0</td>\n",
       "      <td>49.714012</td>\n",
       "      <td>-112.838589</td>\n",
       "      <td>0</td>\n",
       "    </tr>\n",
       "    <tr>\n",
       "      <th>611839</th>\n",
       "      <td>900 VENTURA CR, LETHBRIDGE, AB, Canada</td>\n",
       "      <td>2023-05-28</td>\n",
       "      <td>Sunday</td>\n",
       "      <td>0.0</td>\n",
       "      <td>49.714012</td>\n",
       "      <td>-112.838589</td>\n",
       "      <td>0</td>\n",
       "    </tr>\n",
       "    <tr>\n",
       "      <th>611840</th>\n",
       "      <td>900 VENTURA CR, LETHBRIDGE, AB, Canada</td>\n",
       "      <td>2023-05-29</td>\n",
       "      <td>Monday</td>\n",
       "      <td>0.0</td>\n",
       "      <td>49.714012</td>\n",
       "      <td>-112.838589</td>\n",
       "      <td>0</td>\n",
       "    </tr>\n",
       "    <tr>\n",
       "      <th>611841</th>\n",
       "      <td>900 VENTURA CR, LETHBRIDGE, AB, Canada</td>\n",
       "      <td>2023-05-30</td>\n",
       "      <td>Tuesday</td>\n",
       "      <td>0.0</td>\n",
       "      <td>49.714012</td>\n",
       "      <td>-112.838589</td>\n",
       "      <td>0</td>\n",
       "    </tr>\n",
       "    <tr>\n",
       "      <th>611842</th>\n",
       "      <td>900 VENTURA CR, LETHBRIDGE, AB, Canada</td>\n",
       "      <td>2023-05-31</td>\n",
       "      <td>Wednesday</td>\n",
       "      <td>0.0</td>\n",
       "      <td>49.714012</td>\n",
       "      <td>-112.838589</td>\n",
       "      <td>0</td>\n",
       "    </tr>\n",
       "  </tbody>\n",
       "</table>\n",
       "<p>540675 rows × 7 columns</p>\n",
       "</div>"
      ],
      "text/plain": [
       "                                       address       date  dayOfWeek  \\\n",
       "0               1 1 AV, LETHBRIDGE, AB, Canada 2022-10-01   Saturday   \n",
       "1               1 1 AV, LETHBRIDGE, AB, Canada 2022-10-02     Sunday   \n",
       "2               1 1 AV, LETHBRIDGE, AB, Canada 2022-10-03     Monday   \n",
       "3               1 1 AV, LETHBRIDGE, AB, Canada 2022-10-04    Tuesday   \n",
       "4               1 1 AV, LETHBRIDGE, AB, Canada 2022-10-05  Wednesday   \n",
       "...                                        ...        ...        ...   \n",
       "611838  900 VENTURA CR, LETHBRIDGE, AB, Canada 2023-05-27   Saturday   \n",
       "611839  900 VENTURA CR, LETHBRIDGE, AB, Canada 2023-05-28     Sunday   \n",
       "611840  900 VENTURA CR, LETHBRIDGE, AB, Canada 2023-05-29     Monday   \n",
       "611841  900 VENTURA CR, LETHBRIDGE, AB, Canada 2023-05-30    Tuesday   \n",
       "611842  900 VENTURA CR, LETHBRIDGE, AB, Canada 2023-05-31  Wednesday   \n",
       "\n",
       "        incidentCount        lat         lng  incidentOccurred?  \n",
       "0                 0.0  49.697474 -112.850887                  0  \n",
       "1                 0.0  49.697474 -112.850887                  0  \n",
       "2                 0.0  49.697474 -112.850887                  0  \n",
       "3                 0.0  49.697474 -112.850887                  0  \n",
       "4                 0.0  49.697474 -112.850887                  0  \n",
       "...               ...        ...         ...                ...  \n",
       "611838            0.0  49.714012 -112.838589                  0  \n",
       "611839            0.0  49.714012 -112.838589                  0  \n",
       "611840            0.0  49.714012 -112.838589                  0  \n",
       "611841            0.0  49.714012 -112.838589                  0  \n",
       "611842            0.0  49.714012 -112.838589                  0  \n",
       "\n",
       "[540675 rows x 7 columns]"
      ]
     },
     "execution_count": 332,
     "metadata": {},
     "output_type": "execute_result"
    }
   ],
   "source": [
    "df_blockDate_training"
   ]
  },
  {
   "cell_type": "code",
   "execution_count": 333,
   "metadata": {},
   "outputs": [],
   "source": [
    "df_address_geo = df_address_geo.sort_values('incidentCount',ascending = False).reset_index(drop=True)\n",
    "df_address_geo['incidentCummSum'] = np.cumsum(df_address_geo['incidentCount'])/df_address_geo['incidentCount'].sum()"
   ]
  },
  {
   "cell_type": "code",
   "execution_count": 334,
   "metadata": {},
   "outputs": [
    {
     "data": {
      "text/html": [
       "<div>\n",
       "<style scoped>\n",
       "    .dataframe tbody tr th:only-of-type {\n",
       "        vertical-align: middle;\n",
       "    }\n",
       "\n",
       "    .dataframe tbody tr th {\n",
       "        vertical-align: top;\n",
       "    }\n",
       "\n",
       "    .dataframe thead th {\n",
       "        text-align: right;\n",
       "    }\n",
       "</style>\n",
       "<table border=\"1\" class=\"dataframe\">\n",
       "  <thead>\n",
       "    <tr style=\"text-align: right;\">\n",
       "      <th></th>\n",
       "      <th>address</th>\n",
       "      <th>incidentCount</th>\n",
       "      <th>lat</th>\n",
       "      <th>lng</th>\n",
       "      <th>incidentCummSum</th>\n",
       "    </tr>\n",
       "  </thead>\n",
       "  <tbody>\n",
       "    <tr>\n",
       "      <th>0</th>\n",
       "      <td>100 1 AV, LETHBRIDGE, AB, Canada</td>\n",
       "      <td>2193</td>\n",
       "      <td>49.697816</td>\n",
       "      <td>-112.840058</td>\n",
       "      <td>0.041909</td>\n",
       "    </tr>\n",
       "    <tr>\n",
       "      <th>1</th>\n",
       "      <td>800 2A AV, LETHBRIDGE, AB, Canada</td>\n",
       "      <td>1361</td>\n",
       "      <td>49.701727</td>\n",
       "      <td>-112.831368</td>\n",
       "      <td>0.067918</td>\n",
       "    </tr>\n",
       "    <tr>\n",
       "      <th>2</th>\n",
       "      <td>800 5 AV, LETHBRIDGE, AB, Canada</td>\n",
       "      <td>925</td>\n",
       "      <td>49.692594</td>\n",
       "      <td>-112.834855</td>\n",
       "      <td>0.085595</td>\n",
       "    </tr>\n",
       "    <tr>\n",
       "      <th>3</th>\n",
       "      <td>500 1 AV, LETHBRIDGE, AB, Canada</td>\n",
       "      <td>864</td>\n",
       "      <td>49.697940</td>\n",
       "      <td>-112.840158</td>\n",
       "      <td>0.102106</td>\n",
       "    </tr>\n",
       "    <tr>\n",
       "      <th>4</th>\n",
       "      <td>600 8 ST, LETHBRIDGE, AB, Canada</td>\n",
       "      <td>832</td>\n",
       "      <td>49.690751</td>\n",
       "      <td>-112.835657</td>\n",
       "      <td>0.118006</td>\n",
       "    </tr>\n",
       "    <tr>\n",
       "      <th>...</th>\n",
       "      <td>...</td>\n",
       "      <td>...</td>\n",
       "      <td>...</td>\n",
       "      <td>...</td>\n",
       "      <td>...</td>\n",
       "    </tr>\n",
       "    <tr>\n",
       "      <th>2220</th>\n",
       "      <td>1000 2A, LETHBRIDGE, AB, Canada</td>\n",
       "      <td>1</td>\n",
       "      <td>49.695618</td>\n",
       "      <td>-112.845107</td>\n",
       "      <td>0.999924</td>\n",
       "    </tr>\n",
       "    <tr>\n",
       "      <th>2221</th>\n",
       "      <td>1 ST &amp; ST EDWARD BD, LETHBRIDGE, AB, Canada</td>\n",
       "      <td>1</td>\n",
       "      <td>49.720126</td>\n",
       "      <td>-112.829140</td>\n",
       "      <td>0.999943</td>\n",
       "    </tr>\n",
       "    <tr>\n",
       "      <th>2222</th>\n",
       "      <td>1600 26 ST, LETHBRIDGE, AB, Canada</td>\n",
       "      <td>1</td>\n",
       "      <td>49.675920</td>\n",
       "      <td>-112.804433</td>\n",
       "      <td>0.999962</td>\n",
       "    </tr>\n",
       "    <tr>\n",
       "      <th>2223</th>\n",
       "      <td>1 ST &amp; 41 AV, LETHBRIDGE, AB, Canada</td>\n",
       "      <td>1</td>\n",
       "      <td>49.695618</td>\n",
       "      <td>-112.845107</td>\n",
       "      <td>0.999981</td>\n",
       "    </tr>\n",
       "    <tr>\n",
       "      <th>2224</th>\n",
       "      <td>300 MT SUNDIAL CT, LETHBRIDGE, AB, Canada</td>\n",
       "      <td>1</td>\n",
       "      <td>49.650126</td>\n",
       "      <td>-112.876529</td>\n",
       "      <td>1.000000</td>\n",
       "    </tr>\n",
       "  </tbody>\n",
       "</table>\n",
       "<p>2225 rows × 5 columns</p>\n",
       "</div>"
      ],
      "text/plain": [
       "                                          address  incidentCount        lat  \\\n",
       "0                100 1 AV, LETHBRIDGE, AB, Canada           2193  49.697816   \n",
       "1               800 2A AV, LETHBRIDGE, AB, Canada           1361  49.701727   \n",
       "2                800 5 AV, LETHBRIDGE, AB, Canada            925  49.692594   \n",
       "3                500 1 AV, LETHBRIDGE, AB, Canada            864  49.697940   \n",
       "4                600 8 ST, LETHBRIDGE, AB, Canada            832  49.690751   \n",
       "...                                           ...            ...        ...   \n",
       "2220              1000 2A, LETHBRIDGE, AB, Canada              1  49.695618   \n",
       "2221  1 ST & ST EDWARD BD, LETHBRIDGE, AB, Canada              1  49.720126   \n",
       "2222           1600 26 ST, LETHBRIDGE, AB, Canada              1  49.675920   \n",
       "2223         1 ST & 41 AV, LETHBRIDGE, AB, Canada              1  49.695618   \n",
       "2224    300 MT SUNDIAL CT, LETHBRIDGE, AB, Canada              1  49.650126   \n",
       "\n",
       "             lng  incidentCummSum  \n",
       "0    -112.840058         0.041909  \n",
       "1    -112.831368         0.067918  \n",
       "2    -112.834855         0.085595  \n",
       "3    -112.840158         0.102106  \n",
       "4    -112.835657         0.118006  \n",
       "...          ...              ...  \n",
       "2220 -112.845107         0.999924  \n",
       "2221 -112.829140         0.999943  \n",
       "2222 -112.804433         0.999962  \n",
       "2223 -112.845107         0.999981  \n",
       "2224 -112.876529         1.000000  \n",
       "\n",
       "[2225 rows x 5 columns]"
      ]
     },
     "execution_count": 334,
     "metadata": {},
     "output_type": "execute_result"
    }
   ],
   "source": [
    "df_address_geo"
   ]
  },
  {
   "cell_type": "code",
   "execution_count": 335,
   "metadata": {},
   "outputs": [
    {
     "data": {
      "text/plain": [
       "Text(0, 0.5, 'Cummulative % of Incidents')"
      ]
     },
     "execution_count": 335,
     "metadata": {},
     "output_type": "execute_result"
    },
    {
     "data": {
      "image/png": "[encoded data removed]",
      "text/plain": [
       "<Figure size 1400x500 with 1 Axes>"
      ]
     },
     "metadata": {},
     "output_type": "display_data"
    }
   ],
   "source": [
    "plt.figure(figsize=(14,5))\n",
    "plt.plot(df_address_geo.head(200).index,df_address_geo.head(200)['incidentCummSum'])\n",
    "plt.xlabel('No. of Blocks')\n",
    "plt.ylabel('Cummulative % of Incidents')\n"
   ]
  },
  {
   "cell_type": "code",
   "execution_count": 336,
   "metadata": {},
   "outputs": [
    {
     "data": {
      "text/plain": [
       "Text(0, 0.5, 'Incident Count')"
      ]
     },
     "execution_count": 336,
     "metadata": {},
     "output_type": "execute_result"
    },
    {
     "data": {
      "image/png": "[encoded data removed]",
      "text/plain": [
       "<Figure size 1400x500 with 1 Axes>"
      ]
     },
     "metadata": {},
     "output_type": "display_data"
    }
   ],
   "source": [
    "plt.figure(figsize=(14,5))\n",
    "plt.fill_between(df_address_geo.head(200).index,df_address_geo.head(200)['incidentCount'])\n",
    "plt.xlabel('No. of Blocks')\n",
    "plt.ylabel('Incident Count')"
   ]
  },
  {
   "cell_type": "markdown",
   "metadata": {},
   "source": [
    "# Machine Learning Models"
   ]
  },
  {
   "cell_type": "markdown",
   "metadata": {},
   "source": [
    "## Splitting Training and Testing Data"
   ]
  },
  {
   "cell_type": "code",
   "execution_count": 337,
   "metadata": {},
   "outputs": [],
   "source": [
    "df_blockDate_training = df_blockDate[df_blockDate['date'].dt.date < date(2023,6,1)]\n",
    "df_blockDate_test = df_blockDate[\n",
    "    (df_blockDate['date'].dt.date >= date(2023,6,1)) &\n",
    "    (df_blockDate['date'].dt.date < date(2023,7,1))\n",
    "]"
   ]
  },
  {
   "cell_type": "markdown",
   "metadata": {},
   "source": [
    "## All-Time Hotspots"
   ]
  },
  {
   "cell_type": "code",
   "execution_count": 338,
   "metadata": {},
   "outputs": [],
   "source": [
    "# Assuming Lethbridge can have 30 patrol cars one the roads at one time\n",
    "policeCarsCount = 30\n",
    "\n",
    "df_hotspot = df_blockDate_training.pivot_table(index='address', values='incidentOccurred?', aggfunc='mean').reset_index()\n",
    "df_hotspot = df_hotspot.sort_values('incidentOccurred?',ascending=False)\n",
    "df_hotspot.columns = ['address','incidentChance']\n",
    "df_hotspot = df_hotspot.head(policeCarsCount)"
   ]
  },
  {
   "cell_type": "code",
   "execution_count": 339,
   "metadata": {},
   "outputs": [
    {
     "name": "stderr",
     "output_type": "stream",
     "text": [
      "/var/folders/t5/t3vd2l292dz2vlb6dq_km0fh0000gn/T/ipykernel_49498/359809479.py:1: SettingWithCopyWarning: \n",
      "A value is trying to be set on a copy of a slice from a DataFrame.\n",
      "Try using .loc[row_indexer,col_indexer] = value instead\n",
      "\n",
      "See the caveats in the documentation: https://pandas.pydata.org/pandas-docs/stable/user_guide/indexing.html#returning-a-view-versus-a-copy\n",
      "  df_blockDate_test['Hotspot Prediction'] = df_blockDate_test['address'].isin(df_hotspot['address'])*1\n"
     ]
    }
   ],
   "source": [
    "df_blockDate_test['Hotspot Prediction'] = df_blockDate_test['address'].isin(df_hotspot['address'])*1"
   ]
  },
  {
   "cell_type": "code",
   "execution_count": 340,
   "metadata": {},
   "outputs": [],
   "source": [
    "def print_confusion_matrix(y_test, y_pred):\n",
    "    from sklearn.metrics import confusion_matrix\n",
    "    cf = confusion_matrix(y_test, y_pred)\n",
    "    plt.figure()\n",
    "    sns.heatmap(cf, annot=True, fmt='g')\n",
    "    plt.xlabel('Prediction')\n",
    "    plt.ylabel('Target')\n",
    "    plt.title('Confusion Matrix')"
   ]
  },
  {
   "cell_type": "code",
   "execution_count": 341,
   "metadata": {},
   "outputs": [],
   "source": [
    "df_test = df_blockDate[['address', 'incidentOccurred?']].pivot_table(index='address', values='incidentOccurred?', aggfunc='mean').reset_index()\n",
    "df_test.columns = ['address', 'daysWithIncidentPercent']\n",
    "\n",
    "df_address_geo2 = df_address_geo.merge(df_test, on='address', how='left').sort_values('incidentCount', ascending=False)\n",
    "df_address_geo2.to_csv('df_address_geo2.csv')"
   ]
  },
  {
   "cell_type": "code",
   "execution_count": 342,
   "metadata": {},
   "outputs": [
    {
     "data": {
      "image/png": "[encoded data removed]",
      "text/plain": [
       "<Figure size 640x480 with 2 Axes>"
      ]
     },
     "metadata": {},
     "output_type": "display_data"
    }
   ],
   "source": [
    "print_confusion_matrix(df_blockDate_test['incidentOccurred?'], df_blockDate_test['Hotspot Prediction'])"
   ]
  },
  {
   "cell_type": "code",
   "execution_count": 345,
   "metadata": {},
   "outputs": [
    {
     "name": "stdout",
     "output_type": "stream",
     "text": [
      "              precision    recall  f1-score   support\n",
      "\n",
      "           0       0.96      0.99      0.98     63407\n",
      "           1       0.64      0.17      0.27      3343\n",
      "\n",
      "    accuracy                           0.95     66750\n",
      "   macro avg       0.80      0.58      0.62     66750\n",
      "weighted avg       0.94      0.95      0.94     66750\n",
      "\n"
     ]
    }
   ],
   "source": [
    "from sklearn.metrics import confusion_matrix, classification_report, roc_curve, roc_auc_score, auc\n",
    "print(classification_report(df_blockDate_test['incidentOccurred?'], df_blockDate_test['Hotspot Prediction']))"
   ]
  },
  {
   "cell_type": "code",
   "execution_count": 172,
   "metadata": {},
   "outputs": [],
   "source": []
  },
  {
   "cell_type": "markdown",
   "metadata": {},
   "source": [
    "## Logistic Regression"
   ]
  },
  {
   "cell_type": "code",
   "execution_count": null,
   "metadata": {},
   "outputs": [],
   "source": [
    "import pandas as pd\n",
    "from sklearn.linear_model import LogisticRegression\n",
    "from sklearn.metrics import accuracy_score\n",
    "from sklearn.preprocessing import OneHotEncoder\n",
    "\n",
    "# Select features and target variable\n",
    "X = data.drop(columns=['target'])\n",
    "y = data['target']\n",
    "\n",
    "# One-hot encode categorical variables\n",
    "categorical_columns = ['color', 'country']\n",
    "encoder = OneHotEncoder(drop='first', sparse=False)\n",
    "X_encoded = encoder.fit_transform(X[categorical_columns])\n",
    "\n",
    "# Combine encoded features with non-categorical features\n",
    "X_final = pd.concat([X.drop(columns=categorical_columns), pd.DataFrame(X_encoded, columns=encoder.get_feature_names(categorical_columns))], axis=1)\n",
    "\n",
    "# Split the data into training and testing sets\n",
    "X_train, X_test, y_train, y_test = train_test_split(X_final, y, test_size=0.2, random_state=42)\n",
    "\n",
    "# Initialize and train the logistic regression model\n",
    "logreg_model = LogisticRegression()\n",
    "logreg_model.fit(X_train, y_train)\n",
    "\n",
    "# Make predictions on the test set\n",
    "y_pred = logreg_model.predict(X_test)\n",
    "\n",
    "# Evaluate the model\n",
    "accuracy = accuracy_score(y_test, y_pred)\n",
    "print(f'Accuracy: {accuracy}')"
   ]
  },
  {
   "cell_type": "markdown",
   "metadata": {},
   "source": [
    "## Random Forest Classifier"
   ]
  },
  {
   "cell_type": "code",
   "execution_count": null,
   "metadata": {},
   "outputs": [],
   "source": [
    "df_blockDate_training['lat_bucket'] = pd.qcut(df_blockDate_training['lat'], q=[0,0.2,0.4,0.6,0.8,1], labels=['A','B','C','D','E'])\n",
    "df_blockDate_training['lng_bucket'] = pd.qcut(df_blockDate_training['lng'], q=[0,0.2,0.4,0.6,0.8,1], labels=['A','B','C','D','E'])"
   ]
  },
  {
   "cell_type": "code",
   "execution_count": null,
   "metadata": {},
   "outputs": [],
   "source": [
    "df_randomForest = df_blockDate_training[['incidentOccurred?','dayOfWeek','lat_bucket','lng_bucket']]"
   ]
  },
  {
   "cell_type": "code",
   "execution_count": null,
   "metadata": {},
   "outputs": [],
   "source": [
    "# Training the random forest classifier model\n",
    "\n",
    "\"\"\"\n",
    "X_train = df_randomForest.drop('incidentOccurred?',axis=1)\n",
    "y_train = df_randomForest['incidentOccurred?']\n",
    "\n",
    "from sklearn.ensemble import RandomForestClassifier\n",
    "\n",
    "rf = RandomForestClassifier(random_state=0)\n",
    "rf.fit(X_train,y_train)\n",
    "y_pred_rf = rf.predict(X_test)\n",
    "\"\"\""
   ]
  }
 ],
 "metadata": {
  "kernelspec": {
   "display_name": "secondEnv",
   "language": "python",
   "name": "python3"
  },
  "language_info": {
   "codemirror_mode": {
    "name": "ipython",
    "version": 3
   },
   "file_extension": ".py",
   "mimetype": "text/x-python",
   "name": "python",
   "nbconvert_exporter": "python",
   "pygments_lexer": "ipython3",
   "version": "3.9.16"
  },
  "orig_nbformat": 4
 },
 "nbformat": 4,
 "nbformat_minor": 2
}
